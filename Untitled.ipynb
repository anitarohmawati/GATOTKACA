{
 "cells": [
  {
   "cell_type": "code",
   "execution_count": 23,
   "id": "ecb45e49",
   "metadata": {
    "ExecuteTime": {
     "end_time": "2022-11-10T05:17:28.041812Z",
     "start_time": "2022-11-10T05:17:28.023687Z"
    }
   },
   "outputs": [
    {
     "name": "stdout",
     "output_type": "stream",
     "text": [
      "Overwriting webapp.py\n"
     ]
    }
   ],
   "source": [
    "%%writefile  webapp.py \n",
    "\n",
    "import altair as alt\n",
    "import numpy as np\n",
    "import pandas as pd\n",
    "import pydeck as pdk\n",
    "import streamlit as st\n",
    "\n",
    "# SETTING PAGE CONFIG TO WIDE MODE AND ADDING A TITLE AND FAVICON\n",
    "st.set_page_config(layout=\"wide\", page_title=\"Renewable Energy Investment\", page_icon=\":globe:\")\n",
    "\n",
    "# LOAD DATA ONCE\n",
    "@st.experimental_singleton\n",
    "def load_data_SSA():\n",
    "    data = pd.read_excel(\n",
    "        \"SSH Rural Access to Electricity 2020.xlsx\"\n",
    "        # set as datetime instead of converting after the fact\n",
    "    )\n",
    "    \n",
    "    data = data[data[2020] < 50].sort_values(by=2020, ascending=True)\n",
    "    return data\n",
    "\n",
    "def get_optimize(target, final_df):\n",
    "    delta = (final_df.prediction - target).abs().nsmallest(5)\n",
    "    opt = final_df.iloc[delta.index.to_list()]\n",
    "    return opt.iloc[:,1:-1].reset_index(drop=True)\n",
    "\n",
    "def main() :\n",
    "\n",
    "    df = load_data_SSA()\n",
    "    reference_df = pd.read_csv('reference_df.csv')\n",
    "    \n",
    "    st.image(\"header.png\")\n",
    "    st.title(\"Background\")\n",
    "    \n",
    "    tab1, tab2 = st.tabs(['Background','Optimizer'])\n",
    "    tab1.subheader(\"The Needs of Electification on Sub-Sahara Africa\")\n",
    "    tab2.subheader(\"Optimizing Renewable Energy Investment for Electrification Acceleration in Sub-Saharan Africa Region\")\n",
    "    \n",
    "    with tab1:\n",
    "        #columns :\n",
    "        col1, col2 = st.columns(2)\n",
    "        with col1:\n",
    "            st.markdown(\"#### In 2020, there were countries in SSA whose rural area were still below 50% in electricity access as follows:\")\n",
    "            st.markdown(\"#### Imagine the positive impacts we can accrue should the donor from developed countries position their investment to promote the electrification acceleration on those areas!\")\n",
    "\n",
    "        with col2:\n",
    "            st.dataframe(df)\n",
    "    with tab2:\n",
    "        col1, col2= st.columns([2,4])\n",
    "        with col1:\n",
    "            #Input (Typing)\n",
    "            num_input = st.number_input('Insert the Target of Electrification Growth', min_value=0.0, max_value=4.5)\n",
    "            click_me_btn = st.button('Click Me')\n",
    "        with col2:\n",
    "            if click_me_btn:\n",
    "                if num_input > 0.0:\n",
    "                    st.dataframe(get_optimize(num_input, reference_df))\n",
    "                else:\n",
    "                    st.write('Input Error')\n",
    "\n",
    "    \n",
    "if __name__ == '__main__' : \n",
    "    main()"
   ]
  },
  {
   "cell_type": "code",
   "execution_count": 24,
   "id": "0be10b95",
   "metadata": {
    "ExecuteTime": {
     "end_time": "2022-11-10T05:17:56.569002Z",
     "start_time": "2022-11-10T05:17:28.476031Z"
    }
   },
   "outputs": [
    {
     "name": "stdout",
     "output_type": "stream",
     "text": [
      "^C\n"
     ]
    }
   ],
   "source": [
    "!streamlit run webapp.py"
   ]
  },
  {
   "cell_type": "code",
   "execution_count": null,
   "id": "60c11a64",
   "metadata": {},
   "outputs": [],
   "source": []
  }
 ],
 "metadata": {
  "kernelspec": {
   "display_name": "Python 3",
   "language": "python",
   "name": "python3"
  },
  "language_info": {
   "codemirror_mode": {
    "name": "ipython",
    "version": 3
   },
   "file_extension": ".py",
   "mimetype": "text/x-python",
   "name": "python",
   "nbconvert_exporter": "python",
   "pygments_lexer": "ipython3",
   "version": "3.8.8"
  }
 },
 "nbformat": 4,
 "nbformat_minor": 5
}
