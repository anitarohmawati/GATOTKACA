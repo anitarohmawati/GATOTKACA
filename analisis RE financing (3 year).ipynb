{
 "cells": [
  {
   "cell_type": "code",
   "execution_count": 206,
   "id": "3cc5eefa",
   "metadata": {
    "ExecuteTime": {
     "end_time": "2022-11-08T22:52:43.413337Z",
     "start_time": "2022-11-08T22:52:43.398376Z"
    }
   },
   "outputs": [],
   "source": [
    "import pandas as pd\n",
    "import missingno.missingno as msn\n",
    "\n",
    "import numpy as np\n",
    "import pulp\n",
    "from pulp import LpMinimize, LpProblem, LpVariable\n",
    "from sklearn.preprocessing import PowerTransformer\n",
    "from sklearn.model_selection import GridSearchCV\n",
    "\n",
    "from matplotlib import pyplot as plt\n",
    "import seaborn as sns\n",
    "\n",
    "from matplotlib import pyplot as plt\n",
    "from sklearn.metrics import r2_score, mean_squared_error, mean_absolute_error\n",
    "import seaborn as sns\n",
    "import statsmodels.api as sm\n",
    "\n",
    "sns.set(rc={'figure.figsize':(11.7,8.27)})\n",
    "\n",
    "import networkx as nx\n",
    "import pickle"
   ]
  },
  {
   "cell_type": "markdown",
   "id": "cf386ef2",
   "metadata": {},
   "source": [
    "# Load Data"
   ]
  },
  {
   "cell_type": "code",
   "execution_count": 207,
   "id": "1a5ee5ee",
   "metadata": {
    "ExecuteTime": {
     "end_time": "2022-11-08T22:52:43.846580Z",
     "start_time": "2022-11-08T22:52:43.808645Z"
    }
   },
   "outputs": [
    {
     "data": {
      "text/html": [
       "<div>\n",
       "<style scoped>\n",
       "    .dataframe tbody tr th:only-of-type {\n",
       "        vertical-align: middle;\n",
       "    }\n",
       "\n",
       "    .dataframe tbody tr th {\n",
       "        vertical-align: top;\n",
       "    }\n",
       "\n",
       "    .dataframe thead th {\n",
       "        text-align: right;\n",
       "    }\n",
       "</style>\n",
       "<table border=\"1\" class=\"dataframe\">\n",
       "  <thead>\n",
       "    <tr style=\"text-align: right;\">\n",
       "      <th></th>\n",
       "      <th>Country Name</th>\n",
       "      <th>Country Code</th>\n",
       "      <th>Indicator Name</th>\n",
       "      <th>Indicator Code</th>\n",
       "      <th>1960</th>\n",
       "      <th>1961</th>\n",
       "      <th>1962</th>\n",
       "      <th>1963</th>\n",
       "      <th>1964</th>\n",
       "      <th>1965</th>\n",
       "      <th>...</th>\n",
       "      <th>2013</th>\n",
       "      <th>2014</th>\n",
       "      <th>2015</th>\n",
       "      <th>2016</th>\n",
       "      <th>2017</th>\n",
       "      <th>2018</th>\n",
       "      <th>2019</th>\n",
       "      <th>2020</th>\n",
       "      <th>2021</th>\n",
       "      <th>Unnamed: 66</th>\n",
       "    </tr>\n",
       "  </thead>\n",
       "  <tbody>\n",
       "    <tr>\n",
       "      <th>0</th>\n",
       "      <td>Aruba</td>\n",
       "      <td>ABW</td>\n",
       "      <td>Access to electricity (% of population)</td>\n",
       "      <td>EG.ELC.ACCS.ZS</td>\n",
       "      <td>NaN</td>\n",
       "      <td>NaN</td>\n",
       "      <td>NaN</td>\n",
       "      <td>NaN</td>\n",
       "      <td>NaN</td>\n",
       "      <td>NaN</td>\n",
       "      <td>...</td>\n",
       "      <td>100.000000</td>\n",
       "      <td>100.000000</td>\n",
       "      <td>100.000000</td>\n",
       "      <td>100.000000</td>\n",
       "      <td>100.000000</td>\n",
       "      <td>100.000000</td>\n",
       "      <td>100.000000</td>\n",
       "      <td>100.000000</td>\n",
       "      <td>NaN</td>\n",
       "      <td>NaN</td>\n",
       "    </tr>\n",
       "    <tr>\n",
       "      <th>1</th>\n",
       "      <td>Africa Eastern and Southern</td>\n",
       "      <td>AFE</td>\n",
       "      <td>Access to electricity (% of population)</td>\n",
       "      <td>EG.ELC.ACCS.ZS</td>\n",
       "      <td>NaN</td>\n",
       "      <td>NaN</td>\n",
       "      <td>NaN</td>\n",
       "      <td>NaN</td>\n",
       "      <td>NaN</td>\n",
       "      <td>NaN</td>\n",
       "      <td>...</td>\n",
       "      <td>31.794160</td>\n",
       "      <td>32.001027</td>\n",
       "      <td>33.871910</td>\n",
       "      <td>38.880173</td>\n",
       "      <td>40.261358</td>\n",
       "      <td>43.061877</td>\n",
       "      <td>44.270860</td>\n",
       "      <td>45.803485</td>\n",
       "      <td>NaN</td>\n",
       "      <td>NaN</td>\n",
       "    </tr>\n",
       "    <tr>\n",
       "      <th>2</th>\n",
       "      <td>Afghanistan</td>\n",
       "      <td>AFG</td>\n",
       "      <td>Access to electricity (% of population)</td>\n",
       "      <td>EG.ELC.ACCS.ZS</td>\n",
       "      <td>NaN</td>\n",
       "      <td>NaN</td>\n",
       "      <td>NaN</td>\n",
       "      <td>NaN</td>\n",
       "      <td>NaN</td>\n",
       "      <td>NaN</td>\n",
       "      <td>...</td>\n",
       "      <td>68.290649</td>\n",
       "      <td>89.500000</td>\n",
       "      <td>71.500000</td>\n",
       "      <td>97.699997</td>\n",
       "      <td>97.699997</td>\n",
       "      <td>96.616135</td>\n",
       "      <td>97.699997</td>\n",
       "      <td>97.699997</td>\n",
       "      <td>NaN</td>\n",
       "      <td>NaN</td>\n",
       "    </tr>\n",
       "    <tr>\n",
       "      <th>3</th>\n",
       "      <td>Africa Western and Central</td>\n",
       "      <td>AFW</td>\n",
       "      <td>Access to electricity (% of population)</td>\n",
       "      <td>EG.ELC.ACCS.ZS</td>\n",
       "      <td>NaN</td>\n",
       "      <td>NaN</td>\n",
       "      <td>NaN</td>\n",
       "      <td>NaN</td>\n",
       "      <td>NaN</td>\n",
       "      <td>NaN</td>\n",
       "      <td>...</td>\n",
       "      <td>47.048316</td>\n",
       "      <td>47.599323</td>\n",
       "      <td>46.766294</td>\n",
       "      <td>50.953487</td>\n",
       "      <td>48.861191</td>\n",
       "      <td>51.259712</td>\n",
       "      <td>51.290193</td>\n",
       "      <td>52.111601</td>\n",
       "      <td>NaN</td>\n",
       "      <td>NaN</td>\n",
       "    </tr>\n",
       "    <tr>\n",
       "      <th>4</th>\n",
       "      <td>Angola</td>\n",
       "      <td>AGO</td>\n",
       "      <td>Access to electricity (% of population)</td>\n",
       "      <td>EG.ELC.ACCS.ZS</td>\n",
       "      <td>NaN</td>\n",
       "      <td>NaN</td>\n",
       "      <td>NaN</td>\n",
       "      <td>NaN</td>\n",
       "      <td>NaN</td>\n",
       "      <td>NaN</td>\n",
       "      <td>...</td>\n",
       "      <td>38.278030</td>\n",
       "      <td>32.000000</td>\n",
       "      <td>42.000000</td>\n",
       "      <td>41.813129</td>\n",
       "      <td>43.013260</td>\n",
       "      <td>45.290001</td>\n",
       "      <td>45.642799</td>\n",
       "      <td>46.890610</td>\n",
       "      <td>NaN</td>\n",
       "      <td>NaN</td>\n",
       "    </tr>\n",
       "  </tbody>\n",
       "</table>\n",
       "<p>5 rows × 67 columns</p>\n",
       "</div>"
      ],
      "text/plain": [
       "                  Country Name Country Code  \\\n",
       "0                        Aruba          ABW   \n",
       "1  Africa Eastern and Southern          AFE   \n",
       "2                  Afghanistan          AFG   \n",
       "3   Africa Western and Central          AFW   \n",
       "4                       Angola          AGO   \n",
       "\n",
       "                            Indicator Name  Indicator Code  1960  1961  1962  \\\n",
       "0  Access to electricity (% of population)  EG.ELC.ACCS.ZS   NaN   NaN   NaN   \n",
       "1  Access to electricity (% of population)  EG.ELC.ACCS.ZS   NaN   NaN   NaN   \n",
       "2  Access to electricity (% of population)  EG.ELC.ACCS.ZS   NaN   NaN   NaN   \n",
       "3  Access to electricity (% of population)  EG.ELC.ACCS.ZS   NaN   NaN   NaN   \n",
       "4  Access to electricity (% of population)  EG.ELC.ACCS.ZS   NaN   NaN   NaN   \n",
       "\n",
       "   1963  1964  1965  ...        2013        2014        2015        2016  \\\n",
       "0   NaN   NaN   NaN  ...  100.000000  100.000000  100.000000  100.000000   \n",
       "1   NaN   NaN   NaN  ...   31.794160   32.001027   33.871910   38.880173   \n",
       "2   NaN   NaN   NaN  ...   68.290649   89.500000   71.500000   97.699997   \n",
       "3   NaN   NaN   NaN  ...   47.048316   47.599323   46.766294   50.953487   \n",
       "4   NaN   NaN   NaN  ...   38.278030   32.000000   42.000000   41.813129   \n",
       "\n",
       "         2017        2018        2019        2020  2021  Unnamed: 66  \n",
       "0  100.000000  100.000000  100.000000  100.000000   NaN          NaN  \n",
       "1   40.261358   43.061877   44.270860   45.803485   NaN          NaN  \n",
       "2   97.699997   96.616135   97.699997   97.699997   NaN          NaN  \n",
       "3   48.861191   51.259712   51.290193   52.111601   NaN          NaN  \n",
       "4   43.013260   45.290001   45.642799   46.890610   NaN          NaN  \n",
       "\n",
       "[5 rows x 67 columns]"
      ]
     },
     "execution_count": 207,
     "metadata": {},
     "output_type": "execute_result"
    }
   ],
   "source": [
    "electicify_df = pd.read_csv('API_EG.ELC.ACCS.ZS_DS2_en_csv_v2_4695288.csv',skiprows=4)\n",
    "electicify_df.head()"
   ]
  },
  {
   "cell_type": "code",
   "execution_count": 208,
   "id": "71d8d2e1",
   "metadata": {
    "ExecuteTime": {
     "end_time": "2022-11-08T22:52:44.035046Z",
     "start_time": "2022-11-08T22:52:44.013069Z"
    }
   },
   "outputs": [
    {
     "data": {
      "text/plain": [
       "Country Name        0\n",
       "Country Code        0\n",
       "Indicator Name      0\n",
       "Indicator Code      0\n",
       "2019                2\n",
       "                 ... \n",
       "1985              266\n",
       "1986              266\n",
       "1987              266\n",
       "1974              266\n",
       "Unnamed: 66       266\n",
       "Length: 67, dtype: int64"
      ]
     },
     "execution_count": 208,
     "metadata": {},
     "output_type": "execute_result"
    }
   ],
   "source": [
    "electicify_df.isna().sum().sort_values()"
   ]
  },
  {
   "cell_type": "code",
   "execution_count": 209,
   "id": "141c44a3",
   "metadata": {
    "ExecuteTime": {
     "end_time": "2022-11-08T22:52:47.878888Z",
     "start_time": "2022-11-08T22:52:44.224661Z"
    }
   },
   "outputs": [
    {
     "data": {
      "text/html": [
       "<div>\n",
       "<style scoped>\n",
       "    .dataframe tbody tr th:only-of-type {\n",
       "        vertical-align: middle;\n",
       "    }\n",
       "\n",
       "    .dataframe tbody tr th {\n",
       "        vertical-align: top;\n",
       "    }\n",
       "\n",
       "    .dataframe thead th {\n",
       "        text-align: right;\n",
       "    }\n",
       "</style>\n",
       "<table border=\"1\" class=\"dataframe\">\n",
       "  <thead>\n",
       "    <tr style=\"text-align: right;\">\n",
       "      <th></th>\n",
       "      <th>ISO-code</th>\n",
       "      <th>Country/Area</th>\n",
       "      <th>Region</th>\n",
       "      <th>Project</th>\n",
       "      <th>Donor</th>\n",
       "      <th>Agency</th>\n",
       "      <th>Year</th>\n",
       "      <th>Category</th>\n",
       "      <th>Technology</th>\n",
       "      <th>Sub-technology</th>\n",
       "      <th>Finance Group</th>\n",
       "      <th>Finance Type</th>\n",
       "      <th>Source</th>\n",
       "      <th>Reference Date</th>\n",
       "      <th>Amount (2020 USD million)</th>\n",
       "    </tr>\n",
       "  </thead>\n",
       "  <tbody>\n",
       "    <tr>\n",
       "      <th>0</th>\n",
       "      <td>EUE</td>\n",
       "      <td>European Union (27)</td>\n",
       "      <td>Europe</td>\n",
       "      <td>SOLAS SUSTAINABLE ENERGY FUND</td>\n",
       "      <td>EU Institutions</td>\n",
       "      <td>European Investment Bank</td>\n",
       "      <td>2020</td>\n",
       "      <td>Renewables</td>\n",
       "      <td>Multiple renewables</td>\n",
       "      <td>Multiple renewables</td>\n",
       "      <td>Equity</td>\n",
       "      <td>Shares in collective investment vehicles</td>\n",
       "      <td>https://www.eib.org/en/projects/loans/all/2018...</td>\n",
       "      <td>2020-12-17</td>\n",
       "      <td>0.583190</td>\n",
       "    </tr>\n",
       "    <tr>\n",
       "      <th>1</th>\n",
       "      <td>EUE</td>\n",
       "      <td>European Union (27)</td>\n",
       "      <td>Europe</td>\n",
       "      <td>Taaleri Energia Solarwind Fund II</td>\n",
       "      <td>EU Institutions</td>\n",
       "      <td>European Investment Bank</td>\n",
       "      <td>2019</td>\n",
       "      <td>Renewables</td>\n",
       "      <td>Multiple renewables</td>\n",
       "      <td>Multiple renewables</td>\n",
       "      <td>Equity</td>\n",
       "      <td>Shares in collective investment vehicles</td>\n",
       "      <td>https://www.eib.org/en/projects/loans/all/2018...</td>\n",
       "      <td>2019-06-06</td>\n",
       "      <td>4.882124</td>\n",
       "    </tr>\n",
       "    <tr>\n",
       "      <th>2</th>\n",
       "      <td>EUE</td>\n",
       "      <td>European Union (27)</td>\n",
       "      <td>Europe</td>\n",
       "      <td>MERIDIAM GREEN IMPACT GROWTH FUND (GIGF)</td>\n",
       "      <td>EU Institutions</td>\n",
       "      <td>European Investment Bank</td>\n",
       "      <td>2020</td>\n",
       "      <td>Renewables</td>\n",
       "      <td>Multiple renewables</td>\n",
       "      <td>Multiple renewables</td>\n",
       "      <td>Equity</td>\n",
       "      <td>Shares in collective investment vehicles</td>\n",
       "      <td>https://www.eib.org/en/projects/loans/all/2019...</td>\n",
       "      <td>2020-12-07</td>\n",
       "      <td>0.680388</td>\n",
       "    </tr>\n",
       "    <tr>\n",
       "      <th>3</th>\n",
       "      <td>EUE</td>\n",
       "      <td>European Union (27)</td>\n",
       "      <td>Europe</td>\n",
       "      <td>SMALL-SCALE SOLAR PROGRAM IN SSA</td>\n",
       "      <td>EU Institutions</td>\n",
       "      <td>European Investment Bank</td>\n",
       "      <td>2020</td>\n",
       "      <td>Renewables</td>\n",
       "      <td>Solar energy</td>\n",
       "      <td>Off-grid Solar photovoltaic</td>\n",
       "      <td>Debt</td>\n",
       "      <td>Standard loan</td>\n",
       "      <td>https://www.eib.org/en/projects/loans/all/2019...</td>\n",
       "      <td>2020-12-04</td>\n",
       "      <td>0.777586</td>\n",
       "    </tr>\n",
       "    <tr>\n",
       "      <th>4</th>\n",
       "      <td>EUE</td>\n",
       "      <td>European Union (27)</td>\n",
       "      <td>Europe</td>\n",
       "      <td>ITALIAN ENERGY EFFICIENCY FUND II</td>\n",
       "      <td>EU Institutions</td>\n",
       "      <td>European Investment Bank</td>\n",
       "      <td>2020</td>\n",
       "      <td>Renewables</td>\n",
       "      <td>Multiple renewables</td>\n",
       "      <td>Multiple renewables</td>\n",
       "      <td>Equity</td>\n",
       "      <td>Shares in collective investment vehicles</td>\n",
       "      <td>https://www.eib.org/en/projects/loans/all/2019...</td>\n",
       "      <td>2020-08-06</td>\n",
       "      <td>0.155517</td>\n",
       "    </tr>\n",
       "  </tbody>\n",
       "</table>\n",
       "</div>"
      ],
      "text/plain": [
       "  ISO-code         Country/Area  Region  \\\n",
       "0      EUE  European Union (27)  Europe   \n",
       "1      EUE  European Union (27)  Europe   \n",
       "2      EUE  European Union (27)  Europe   \n",
       "3      EUE  European Union (27)  Europe   \n",
       "4      EUE  European Union (27)  Europe   \n",
       "\n",
       "                                    Project            Donor  \\\n",
       "0             SOLAS SUSTAINABLE ENERGY FUND  EU Institutions   \n",
       "1         Taaleri Energia Solarwind Fund II  EU Institutions   \n",
       "2  MERIDIAM GREEN IMPACT GROWTH FUND (GIGF)  EU Institutions   \n",
       "3          SMALL-SCALE SOLAR PROGRAM IN SSA  EU Institutions   \n",
       "4         ITALIAN ENERGY EFFICIENCY FUND II  EU Institutions   \n",
       "\n",
       "                     Agency  Year    Category           Technology  \\\n",
       "0  European Investment Bank  2020  Renewables  Multiple renewables   \n",
       "1  European Investment Bank  2019  Renewables  Multiple renewables   \n",
       "2  European Investment Bank  2020  Renewables  Multiple renewables   \n",
       "3  European Investment Bank  2020  Renewables         Solar energy   \n",
       "4  European Investment Bank  2020  Renewables  Multiple renewables   \n",
       "\n",
       "                Sub-technology Finance Group  \\\n",
       "0          Multiple renewables        Equity   \n",
       "1          Multiple renewables        Equity   \n",
       "2          Multiple renewables        Equity   \n",
       "3  Off-grid Solar photovoltaic          Debt   \n",
       "4          Multiple renewables        Equity   \n",
       "\n",
       "                               Finance Type  \\\n",
       "0  Shares in collective investment vehicles   \n",
       "1  Shares in collective investment vehicles   \n",
       "2  Shares in collective investment vehicles   \n",
       "3                             Standard loan   \n",
       "4  Shares in collective investment vehicles   \n",
       "\n",
       "                                              Source Reference Date  \\\n",
       "0  https://www.eib.org/en/projects/loans/all/2018...     2020-12-17   \n",
       "1  https://www.eib.org/en/projects/loans/all/2018...     2019-06-06   \n",
       "2  https://www.eib.org/en/projects/loans/all/2019...     2020-12-07   \n",
       "3  https://www.eib.org/en/projects/loans/all/2019...     2020-12-04   \n",
       "4  https://www.eib.org/en/projects/loans/all/2019...     2020-08-06   \n",
       "\n",
       "   Amount (2020 USD million)  \n",
       "0                   0.583190  \n",
       "1                   4.882124  \n",
       "2                   0.680388  \n",
       "3                   0.777586  \n",
       "4                   0.155517  "
      ]
     },
     "execution_count": 209,
     "metadata": {},
     "output_type": "execute_result"
    }
   ],
   "source": [
    "finance_df = pd.read_excel('IRENA_RE_Public_Investment_July2022.xlsx')\n",
    "finance_df.head()"
   ]
  },
  {
   "cell_type": "code",
   "execution_count": 210,
   "id": "24a265b3",
   "metadata": {
    "ExecuteTime": {
     "end_time": "2022-11-08T22:52:47.910759Z",
     "start_time": "2022-11-08T22:52:47.881836Z"
    }
   },
   "outputs": [
    {
     "data": {
      "text/html": [
       "<div>\n",
       "<style scoped>\n",
       "    .dataframe tbody tr th:only-of-type {\n",
       "        vertical-align: middle;\n",
       "    }\n",
       "\n",
       "    .dataframe tbody tr th {\n",
       "        vertical-align: top;\n",
       "    }\n",
       "\n",
       "    .dataframe thead th {\n",
       "        text-align: right;\n",
       "    }\n",
       "</style>\n",
       "<table border=\"1\" class=\"dataframe\">\n",
       "  <thead>\n",
       "    <tr style=\"text-align: right;\">\n",
       "      <th></th>\n",
       "      <th>Country Code</th>\n",
       "      <th>Region</th>\n",
       "      <th>IncomeGroup</th>\n",
       "      <th>SpecialNotes</th>\n",
       "      <th>TableName</th>\n",
       "      <th>Unnamed: 5</th>\n",
       "    </tr>\n",
       "  </thead>\n",
       "  <tbody>\n",
       "    <tr>\n",
       "      <th>0</th>\n",
       "      <td>ABW</td>\n",
       "      <td>Latin America &amp; Caribbean</td>\n",
       "      <td>High income</td>\n",
       "      <td>NaN</td>\n",
       "      <td>Aruba</td>\n",
       "      <td>NaN</td>\n",
       "    </tr>\n",
       "    <tr>\n",
       "      <th>1</th>\n",
       "      <td>AFE</td>\n",
       "      <td>NaN</td>\n",
       "      <td>NaN</td>\n",
       "      <td>26 countries, stretching from the Red Sea in t...</td>\n",
       "      <td>Africa Eastern and Southern</td>\n",
       "      <td>NaN</td>\n",
       "    </tr>\n",
       "    <tr>\n",
       "      <th>2</th>\n",
       "      <td>AFG</td>\n",
       "      <td>South Asia</td>\n",
       "      <td>Low income</td>\n",
       "      <td>The reporting period for national accounts dat...</td>\n",
       "      <td>Afghanistan</td>\n",
       "      <td>NaN</td>\n",
       "    </tr>\n",
       "    <tr>\n",
       "      <th>3</th>\n",
       "      <td>AFW</td>\n",
       "      <td>NaN</td>\n",
       "      <td>NaN</td>\n",
       "      <td>22 countries, stretching from the westernmost ...</td>\n",
       "      <td>Africa Western and Central</td>\n",
       "      <td>NaN</td>\n",
       "    </tr>\n",
       "    <tr>\n",
       "      <th>4</th>\n",
       "      <td>AGO</td>\n",
       "      <td>Sub-Saharan Africa</td>\n",
       "      <td>Lower middle income</td>\n",
       "      <td>The World Bank systematically assesses the app...</td>\n",
       "      <td>Angola</td>\n",
       "      <td>NaN</td>\n",
       "    </tr>\n",
       "  </tbody>\n",
       "</table>\n",
       "</div>"
      ],
      "text/plain": [
       "  Country Code                     Region          IncomeGroup  \\\n",
       "0          ABW  Latin America & Caribbean          High income   \n",
       "1          AFE                        NaN                  NaN   \n",
       "2          AFG                 South Asia           Low income   \n",
       "3          AFW                        NaN                  NaN   \n",
       "4          AGO         Sub-Saharan Africa  Lower middle income   \n",
       "\n",
       "                                        SpecialNotes  \\\n",
       "0                                                NaN   \n",
       "1  26 countries, stretching from the Red Sea in t...   \n",
       "2  The reporting period for national accounts dat...   \n",
       "3  22 countries, stretching from the westernmost ...   \n",
       "4  The World Bank systematically assesses the app...   \n",
       "\n",
       "                     TableName  Unnamed: 5  \n",
       "0                        Aruba         NaN  \n",
       "1  Africa Eastern and Southern         NaN  \n",
       "2                  Afghanistan         NaN  \n",
       "3   Africa Western and Central         NaN  \n",
       "4                       Angola         NaN  "
      ]
     },
     "execution_count": 210,
     "metadata": {},
     "output_type": "execute_result"
    }
   ],
   "source": [
    "country_df = pd.read_csv('Metadata_Country_API_EG.ELC.ACCS.ZS_DS2_en_csv_v2_4695288.csv')\n",
    "country_df.head()"
   ]
  },
  {
   "cell_type": "markdown",
   "id": "648231ce",
   "metadata": {},
   "source": [
    "# FILTERING DATA\n",
    "#### only sub sahara"
   ]
  },
  {
   "cell_type": "code",
   "execution_count": 211,
   "id": "f4f80064",
   "metadata": {
    "ExecuteTime": {
     "end_time": "2022-11-08T22:52:47.926717Z",
     "start_time": "2022-11-08T22:52:47.914751Z"
    }
   },
   "outputs": [],
   "source": [
    "subSahara_code = country_df[country_df.Region == \"Sub-Saharan Africa\"]\n",
    "subSahara_code.shape\n",
    "subSahara_code.to_csv('list_subSahara.csv')"
   ]
  },
  {
   "cell_type": "code",
   "execution_count": 212,
   "id": "f2373219",
   "metadata": {
    "ExecuteTime": {
     "end_time": "2022-11-08T22:52:47.958631Z",
     "start_time": "2022-11-08T22:52:47.928712Z"
    }
   },
   "outputs": [
    {
     "name": "stdout",
     "output_type": "stream",
     "text": [
      "(48, 67)\n"
     ]
    },
    {
     "data": {
      "text/html": [
       "<div>\n",
       "<style scoped>\n",
       "    .dataframe tbody tr th:only-of-type {\n",
       "        vertical-align: middle;\n",
       "    }\n",
       "\n",
       "    .dataframe tbody tr th {\n",
       "        vertical-align: top;\n",
       "    }\n",
       "\n",
       "    .dataframe thead th {\n",
       "        text-align: right;\n",
       "    }\n",
       "</style>\n",
       "<table border=\"1\" class=\"dataframe\">\n",
       "  <thead>\n",
       "    <tr style=\"text-align: right;\">\n",
       "      <th></th>\n",
       "      <th>Country Name</th>\n",
       "      <th>Country Code</th>\n",
       "      <th>Indicator Name</th>\n",
       "      <th>Indicator Code</th>\n",
       "      <th>1960</th>\n",
       "      <th>1961</th>\n",
       "      <th>1962</th>\n",
       "      <th>1963</th>\n",
       "      <th>1964</th>\n",
       "      <th>1965</th>\n",
       "      <th>...</th>\n",
       "      <th>2013</th>\n",
       "      <th>2014</th>\n",
       "      <th>2015</th>\n",
       "      <th>2016</th>\n",
       "      <th>2017</th>\n",
       "      <th>2018</th>\n",
       "      <th>2019</th>\n",
       "      <th>2020</th>\n",
       "      <th>2021</th>\n",
       "      <th>Unnamed: 66</th>\n",
       "    </tr>\n",
       "  </thead>\n",
       "  <tbody>\n",
       "    <tr>\n",
       "      <th>4</th>\n",
       "      <td>Angola</td>\n",
       "      <td>AGO</td>\n",
       "      <td>Access to electricity (% of population)</td>\n",
       "      <td>EG.ELC.ACCS.ZS</td>\n",
       "      <td>NaN</td>\n",
       "      <td>NaN</td>\n",
       "      <td>NaN</td>\n",
       "      <td>NaN</td>\n",
       "      <td>NaN</td>\n",
       "      <td>NaN</td>\n",
       "      <td>...</td>\n",
       "      <td>38.278030</td>\n",
       "      <td>32.000000</td>\n",
       "      <td>42.000000</td>\n",
       "      <td>41.813129</td>\n",
       "      <td>43.013260</td>\n",
       "      <td>45.290001</td>\n",
       "      <td>45.642799</td>\n",
       "      <td>46.890610</td>\n",
       "      <td>NaN</td>\n",
       "      <td>NaN</td>\n",
       "    </tr>\n",
       "    <tr>\n",
       "      <th>16</th>\n",
       "      <td>Burundi</td>\n",
       "      <td>BDI</td>\n",
       "      <td>Access to electricity (% of population)</td>\n",
       "      <td>EG.ELC.ACCS.ZS</td>\n",
       "      <td>NaN</td>\n",
       "      <td>NaN</td>\n",
       "      <td>NaN</td>\n",
       "      <td>NaN</td>\n",
       "      <td>NaN</td>\n",
       "      <td>NaN</td>\n",
       "      <td>...</td>\n",
       "      <td>6.900000</td>\n",
       "      <td>7.000000</td>\n",
       "      <td>8.427652</td>\n",
       "      <td>9.348410</td>\n",
       "      <td>9.300000</td>\n",
       "      <td>10.884909</td>\n",
       "      <td>11.356528</td>\n",
       "      <td>11.735556</td>\n",
       "      <td>NaN</td>\n",
       "      <td>NaN</td>\n",
       "    </tr>\n",
       "    <tr>\n",
       "      <th>18</th>\n",
       "      <td>Benin</td>\n",
       "      <td>BEN</td>\n",
       "      <td>Access to electricity (% of population)</td>\n",
       "      <td>EG.ELC.ACCS.ZS</td>\n",
       "      <td>NaN</td>\n",
       "      <td>NaN</td>\n",
       "      <td>NaN</td>\n",
       "      <td>NaN</td>\n",
       "      <td>NaN</td>\n",
       "      <td>NaN</td>\n",
       "      <td>...</td>\n",
       "      <td>34.691219</td>\n",
       "      <td>34.099998</td>\n",
       "      <td>29.620001</td>\n",
       "      <td>37.095245</td>\n",
       "      <td>34.500000</td>\n",
       "      <td>39.246918</td>\n",
       "      <td>40.328690</td>\n",
       "      <td>41.410957</td>\n",
       "      <td>NaN</td>\n",
       "      <td>NaN</td>\n",
       "    </tr>\n",
       "    <tr>\n",
       "      <th>19</th>\n",
       "      <td>Burkina Faso</td>\n",
       "      <td>BFA</td>\n",
       "      <td>Access to electricity (% of population)</td>\n",
       "      <td>EG.ELC.ACCS.ZS</td>\n",
       "      <td>NaN</td>\n",
       "      <td>NaN</td>\n",
       "      <td>NaN</td>\n",
       "      <td>NaN</td>\n",
       "      <td>NaN</td>\n",
       "      <td>NaN</td>\n",
       "      <td>...</td>\n",
       "      <td>15.405643</td>\n",
       "      <td>19.200001</td>\n",
       "      <td>16.076975</td>\n",
       "      <td>16.641056</td>\n",
       "      <td>17.214043</td>\n",
       "      <td>14.400000</td>\n",
       "      <td>18.374855</td>\n",
       "      <td>18.957239</td>\n",
       "      <td>NaN</td>\n",
       "      <td>NaN</td>\n",
       "    </tr>\n",
       "    <tr>\n",
       "      <th>33</th>\n",
       "      <td>Botswana</td>\n",
       "      <td>BWA</td>\n",
       "      <td>Access to electricity (% of population)</td>\n",
       "      <td>EG.ELC.ACCS.ZS</td>\n",
       "      <td>NaN</td>\n",
       "      <td>NaN</td>\n",
       "      <td>NaN</td>\n",
       "      <td>NaN</td>\n",
       "      <td>NaN</td>\n",
       "      <td>NaN</td>\n",
       "      <td>...</td>\n",
       "      <td>57.991920</td>\n",
       "      <td>59.952995</td>\n",
       "      <td>62.130001</td>\n",
       "      <td>64.175056</td>\n",
       "      <td>67.400002</td>\n",
       "      <td>68.229263</td>\n",
       "      <td>69.959740</td>\n",
       "      <td>71.994759</td>\n",
       "      <td>NaN</td>\n",
       "      <td>NaN</td>\n",
       "    </tr>\n",
       "  </tbody>\n",
       "</table>\n",
       "<p>5 rows × 67 columns</p>\n",
       "</div>"
      ],
      "text/plain": [
       "    Country Name Country Code                           Indicator Name  \\\n",
       "4         Angola          AGO  Access to electricity (% of population)   \n",
       "16       Burundi          BDI  Access to electricity (% of population)   \n",
       "18         Benin          BEN  Access to electricity (% of population)   \n",
       "19  Burkina Faso          BFA  Access to electricity (% of population)   \n",
       "33      Botswana          BWA  Access to electricity (% of population)   \n",
       "\n",
       "    Indicator Code  1960  1961  1962  1963  1964  1965  ...       2013  \\\n",
       "4   EG.ELC.ACCS.ZS   NaN   NaN   NaN   NaN   NaN   NaN  ...  38.278030   \n",
       "16  EG.ELC.ACCS.ZS   NaN   NaN   NaN   NaN   NaN   NaN  ...   6.900000   \n",
       "18  EG.ELC.ACCS.ZS   NaN   NaN   NaN   NaN   NaN   NaN  ...  34.691219   \n",
       "19  EG.ELC.ACCS.ZS   NaN   NaN   NaN   NaN   NaN   NaN  ...  15.405643   \n",
       "33  EG.ELC.ACCS.ZS   NaN   NaN   NaN   NaN   NaN   NaN  ...  57.991920   \n",
       "\n",
       "         2014       2015       2016       2017       2018       2019  \\\n",
       "4   32.000000  42.000000  41.813129  43.013260  45.290001  45.642799   \n",
       "16   7.000000   8.427652   9.348410   9.300000  10.884909  11.356528   \n",
       "18  34.099998  29.620001  37.095245  34.500000  39.246918  40.328690   \n",
       "19  19.200001  16.076975  16.641056  17.214043  14.400000  18.374855   \n",
       "33  59.952995  62.130001  64.175056  67.400002  68.229263  69.959740   \n",
       "\n",
       "         2020  2021  Unnamed: 66  \n",
       "4   46.890610   NaN          NaN  \n",
       "16  11.735556   NaN          NaN  \n",
       "18  41.410957   NaN          NaN  \n",
       "19  18.957239   NaN          NaN  \n",
       "33  71.994759   NaN          NaN  \n",
       "\n",
       "[5 rows x 67 columns]"
      ]
     },
     "execution_count": 212,
     "metadata": {},
     "output_type": "execute_result"
    }
   ],
   "source": [
    "electicify_df = electicify_df[electicify_df['Country Code'].isin(subSahara_code['Country Code'].to_list())]\n",
    "print(electicify_df.shape)\n",
    "electicify_df.head()"
   ]
  },
  {
   "cell_type": "code",
   "execution_count": 213,
   "id": "c65e5387",
   "metadata": {
    "ExecuteTime": {
     "end_time": "2022-11-08T22:52:47.989552Z",
     "start_time": "2022-11-08T22:52:47.961624Z"
    }
   },
   "outputs": [
    {
     "name": "stdout",
     "output_type": "stream",
     "text": [
      "(3525, 15)\n"
     ]
    },
    {
     "data": {
      "text/html": [
       "<div>\n",
       "<style scoped>\n",
       "    .dataframe tbody tr th:only-of-type {\n",
       "        vertical-align: middle;\n",
       "    }\n",
       "\n",
       "    .dataframe tbody tr th {\n",
       "        vertical-align: top;\n",
       "    }\n",
       "\n",
       "    .dataframe thead th {\n",
       "        text-align: right;\n",
       "    }\n",
       "</style>\n",
       "<table border=\"1\" class=\"dataframe\">\n",
       "  <thead>\n",
       "    <tr style=\"text-align: right;\">\n",
       "      <th></th>\n",
       "      <th>ISO-code</th>\n",
       "      <th>Country/Area</th>\n",
       "      <th>Region</th>\n",
       "      <th>Project</th>\n",
       "      <th>Donor</th>\n",
       "      <th>Agency</th>\n",
       "      <th>Year</th>\n",
       "      <th>Category</th>\n",
       "      <th>Technology</th>\n",
       "      <th>Sub-technology</th>\n",
       "      <th>Finance Group</th>\n",
       "      <th>Finance Type</th>\n",
       "      <th>Source</th>\n",
       "      <th>Reference Date</th>\n",
       "      <th>Amount (2020 USD million)</th>\n",
       "    </tr>\n",
       "  </thead>\n",
       "  <tbody>\n",
       "    <tr>\n",
       "      <th>880</th>\n",
       "      <td>AGO</td>\n",
       "      <td>Angola</td>\n",
       "      <td>Africa</td>\n",
       "      <td>TC AGGREGATED ACTIVITIES</td>\n",
       "      <td>Japan</td>\n",
       "      <td>Japanese International Co-operation Agency</td>\n",
       "      <td>2018</td>\n",
       "      <td>Renewables</td>\n",
       "      <td>Multiple renewables</td>\n",
       "      <td>Multiple renewables</td>\n",
       "      <td>Grants</td>\n",
       "      <td>Standard grant</td>\n",
       "      <td>2018 OECD Credit Report System (CRS) Database</td>\n",
       "      <td>2018-12-31</td>\n",
       "      <td>0.010968</td>\n",
       "    </tr>\n",
       "    <tr>\n",
       "      <th>881</th>\n",
       "      <td>AGO</td>\n",
       "      <td>Angola</td>\n",
       "      <td>Africa</td>\n",
       "      <td>loan to Sonangol</td>\n",
       "      <td>China</td>\n",
       "      <td>China Development Bank</td>\n",
       "      <td>2013</td>\n",
       "      <td>Non-renewables</td>\n",
       "      <td>Oil</td>\n",
       "      <td>Oil</td>\n",
       "      <td>Debt</td>\n",
       "      <td>Standard loan</td>\n",
       "      <td>Gallagher, Kevin P. (2021), “China’s Global En...</td>\n",
       "      <td>2013-01-01</td>\n",
       "      <td>1314.902373</td>\n",
       "    </tr>\n",
       "    <tr>\n",
       "      <th>882</th>\n",
       "      <td>AGO</td>\n",
       "      <td>Angola</td>\n",
       "      <td>Africa</td>\n",
       "      <td>POWER GENERATION</td>\n",
       "      <td>Italy</td>\n",
       "      <td>Central administration</td>\n",
       "      <td>2004</td>\n",
       "      <td>Non-renewables</td>\n",
       "      <td>Fossil fuels n.e.s.</td>\n",
       "      <td>Fossil fuels n.e.s.</td>\n",
       "      <td>Grants</td>\n",
       "      <td>Standard grant</td>\n",
       "      <td>2004-05 OECD Credit Report System (CRS) Database</td>\n",
       "      <td>2004-01-01</td>\n",
       "      <td>0.038248</td>\n",
       "    </tr>\n",
       "    <tr>\n",
       "      <th>883</th>\n",
       "      <td>AGO</td>\n",
       "      <td>Angola</td>\n",
       "      <td>Africa</td>\n",
       "      <td>Unspecified Oil Export</td>\n",
       "      <td>China</td>\n",
       "      <td>China Development Bank</td>\n",
       "      <td>2014</td>\n",
       "      <td>Non-renewables</td>\n",
       "      <td>Oil</td>\n",
       "      <td>Oil</td>\n",
       "      <td>Debt</td>\n",
       "      <td>Standard loan</td>\n",
       "      <td>Gallagher, Kevin P. (2021), “China’s Global En...</td>\n",
       "      <td>2014-01-01</td>\n",
       "      <td>1976.056168</td>\n",
       "    </tr>\n",
       "    <tr>\n",
       "      <th>884</th>\n",
       "      <td>AGO</td>\n",
       "      <td>Angola</td>\n",
       "      <td>Africa</td>\n",
       "      <td>Unspecified Oil Export</td>\n",
       "      <td>China</td>\n",
       "      <td>China Development Bank</td>\n",
       "      <td>2016</td>\n",
       "      <td>Non-renewables</td>\n",
       "      <td>Oil</td>\n",
       "      <td>Oil</td>\n",
       "      <td>Debt</td>\n",
       "      <td>Standard loan</td>\n",
       "      <td>Gallagher, Kevin P. (2021), “China’s Global En...</td>\n",
       "      <td>2016-01-01</td>\n",
       "      <td>7250.602922</td>\n",
       "    </tr>\n",
       "  </tbody>\n",
       "</table>\n",
       "</div>"
      ],
      "text/plain": [
       "    ISO-code Country/Area  Region                   Project  Donor  \\\n",
       "880      AGO       Angola  Africa  TC AGGREGATED ACTIVITIES  Japan   \n",
       "881      AGO       Angola  Africa          loan to Sonangol  China   \n",
       "882      AGO       Angola  Africa          POWER GENERATION  Italy   \n",
       "883      AGO       Angola  Africa    Unspecified Oil Export  China   \n",
       "884      AGO       Angola  Africa    Unspecified Oil Export  China   \n",
       "\n",
       "                                         Agency  Year        Category  \\\n",
       "880  Japanese International Co-operation Agency  2018      Renewables   \n",
       "881                      China Development Bank  2013  Non-renewables   \n",
       "882                      Central administration  2004  Non-renewables   \n",
       "883                      China Development Bank  2014  Non-renewables   \n",
       "884                      China Development Bank  2016  Non-renewables   \n",
       "\n",
       "              Technology       Sub-technology Finance Group    Finance Type  \\\n",
       "880  Multiple renewables  Multiple renewables        Grants  Standard grant   \n",
       "881                  Oil                  Oil          Debt   Standard loan   \n",
       "882  Fossil fuels n.e.s.  Fossil fuels n.e.s.        Grants  Standard grant   \n",
       "883                  Oil                  Oil          Debt   Standard loan   \n",
       "884                  Oil                  Oil          Debt   Standard loan   \n",
       "\n",
       "                                                Source Reference Date  \\\n",
       "880      2018 OECD Credit Report System (CRS) Database     2018-12-31   \n",
       "881  Gallagher, Kevin P. (2021), “China’s Global En...     2013-01-01   \n",
       "882   2004-05 OECD Credit Report System (CRS) Database     2004-01-01   \n",
       "883  Gallagher, Kevin P. (2021), “China’s Global En...     2014-01-01   \n",
       "884  Gallagher, Kevin P. (2021), “China’s Global En...     2016-01-01   \n",
       "\n",
       "     Amount (2020 USD million)  \n",
       "880                   0.010968  \n",
       "881                1314.902373  \n",
       "882                   0.038248  \n",
       "883                1976.056168  \n",
       "884                7250.602922  "
      ]
     },
     "execution_count": 213,
     "metadata": {},
     "output_type": "execute_result"
    }
   ],
   "source": [
    "finance_df = finance_df[finance_df['ISO-code'].isin(subSahara_code['Country Code'].to_list())]\n",
    "print(finance_df.shape)\n",
    "finance_df.head()"
   ]
  },
  {
   "cell_type": "markdown",
   "id": "984d23b1",
   "metadata": {},
   "source": [
    "# Data Preparation"
   ]
  },
  {
   "cell_type": "code",
   "execution_count": 214,
   "id": "8da0e15a",
   "metadata": {
    "ExecuteTime": {
     "end_time": "2022-11-08T22:52:48.314750Z",
     "start_time": "2022-11-08T22:52:47.991544Z"
    }
   },
   "outputs": [
    {
     "data": {
      "text/plain": [
       "<AxesSubplot:>"
      ]
     },
     "execution_count": 214,
     "metadata": {},
     "output_type": "execute_result"
    },
    {
     "data": {
      "image/png": "[encoded data removed]",
      "text/plain": [
       "<Figure size 1800x720 with 2 Axes>"
      ]
     },
     "metadata": {},
     "output_type": "display_data"
    }
   ],
   "source": [
    "pivot_df = finance_df.pivot_table(index=['ISO-code','Year'], columns='Technology', values='Amount (2020 USD million)', aggfunc='sum').reset_index()\n",
    "msn.matrix(pivot_df)"
   ]
  },
  {
   "cell_type": "code",
   "execution_count": 215,
   "id": "92a47b8f",
   "metadata": {
    "ExecuteTime": {
     "end_time": "2022-11-08T22:52:48.345669Z",
     "start_time": "2022-11-08T22:52:48.316746Z"
    }
   },
   "outputs": [
    {
     "data": {
      "text/html": [
       "<div>\n",
       "<style scoped>\n",
       "    .dataframe tbody tr th:only-of-type {\n",
       "        vertical-align: middle;\n",
       "    }\n",
       "\n",
       "    .dataframe tbody tr th {\n",
       "        vertical-align: top;\n",
       "    }\n",
       "\n",
       "    .dataframe thead th {\n",
       "        text-align: right;\n",
       "    }\n",
       "</style>\n",
       "<table border=\"1\" class=\"dataframe\">\n",
       "  <thead>\n",
       "    <tr style=\"text-align: right;\">\n",
       "      <th>Technology</th>\n",
       "      <th>ISO-code</th>\n",
       "      <th>Year</th>\n",
       "      <th>Bioenergy</th>\n",
       "      <th>Coal and peat</th>\n",
       "      <th>Fossil fuels n.e.s.</th>\n",
       "      <th>Geothermal energy</th>\n",
       "      <th>Marine energy</th>\n",
       "      <th>Multiple renewables</th>\n",
       "      <th>Natural gas</th>\n",
       "      <th>Nuclear</th>\n",
       "      <th>Oil</th>\n",
       "      <th>Other non-renewables</th>\n",
       "      <th>Renewable hydropower</th>\n",
       "      <th>Solar energy</th>\n",
       "      <th>Wind energy</th>\n",
       "    </tr>\n",
       "  </thead>\n",
       "  <tbody>\n",
       "    <tr>\n",
       "      <th>0</th>\n",
       "      <td>AGO</td>\n",
       "      <td>2003</td>\n",
       "      <td>0.0</td>\n",
       "      <td>0.0</td>\n",
       "      <td>0.000000</td>\n",
       "      <td>0.0</td>\n",
       "      <td>0.0</td>\n",
       "      <td>0.000000</td>\n",
       "      <td>0.0</td>\n",
       "      <td>0.00000</td>\n",
       "      <td>0.0</td>\n",
       "      <td>0.0</td>\n",
       "      <td>0.000000</td>\n",
       "      <td>0.046284</td>\n",
       "      <td>0.0</td>\n",
       "    </tr>\n",
       "    <tr>\n",
       "      <th>1</th>\n",
       "      <td>AGO</td>\n",
       "      <td>2004</td>\n",
       "      <td>0.0</td>\n",
       "      <td>0.0</td>\n",
       "      <td>0.038248</td>\n",
       "      <td>0.0</td>\n",
       "      <td>0.0</td>\n",
       "      <td>0.038258</td>\n",
       "      <td>0.0</td>\n",
       "      <td>0.00000</td>\n",
       "      <td>0.0</td>\n",
       "      <td>0.0</td>\n",
       "      <td>0.000000</td>\n",
       "      <td>0.000000</td>\n",
       "      <td>0.0</td>\n",
       "    </tr>\n",
       "    <tr>\n",
       "      <th>2</th>\n",
       "      <td>AGO</td>\n",
       "      <td>2006</td>\n",
       "      <td>0.0</td>\n",
       "      <td>0.0</td>\n",
       "      <td>1.624527</td>\n",
       "      <td>0.0</td>\n",
       "      <td>0.0</td>\n",
       "      <td>0.000000</td>\n",
       "      <td>0.0</td>\n",
       "      <td>0.00000</td>\n",
       "      <td>0.0</td>\n",
       "      <td>0.0</td>\n",
       "      <td>0.000000</td>\n",
       "      <td>0.000000</td>\n",
       "      <td>0.0</td>\n",
       "    </tr>\n",
       "    <tr>\n",
       "      <th>3</th>\n",
       "      <td>AGO</td>\n",
       "      <td>2007</td>\n",
       "      <td>0.0</td>\n",
       "      <td>0.0</td>\n",
       "      <td>0.000000</td>\n",
       "      <td>0.0</td>\n",
       "      <td>0.0</td>\n",
       "      <td>0.000000</td>\n",
       "      <td>0.0</td>\n",
       "      <td>0.00000</td>\n",
       "      <td>0.0</td>\n",
       "      <td>0.0</td>\n",
       "      <td>0.760908</td>\n",
       "      <td>0.000000</td>\n",
       "      <td>0.0</td>\n",
       "    </tr>\n",
       "    <tr>\n",
       "      <th>4</th>\n",
       "      <td>AGO</td>\n",
       "      <td>2010</td>\n",
       "      <td>0.0</td>\n",
       "      <td>0.0</td>\n",
       "      <td>0.000000</td>\n",
       "      <td>0.0</td>\n",
       "      <td>0.0</td>\n",
       "      <td>0.013506</td>\n",
       "      <td>0.0</td>\n",
       "      <td>0.29202</td>\n",
       "      <td>0.0</td>\n",
       "      <td>0.0</td>\n",
       "      <td>0.006694</td>\n",
       "      <td>0.000000</td>\n",
       "      <td>0.0</td>\n",
       "    </tr>\n",
       "  </tbody>\n",
       "</table>\n",
       "</div>"
      ],
      "text/plain": [
       "Technology ISO-code  Year  Bioenergy  Coal and peat  Fossil fuels n.e.s.  \\\n",
       "0               AGO  2003        0.0            0.0             0.000000   \n",
       "1               AGO  2004        0.0            0.0             0.038248   \n",
       "2               AGO  2006        0.0            0.0             1.624527   \n",
       "3               AGO  2007        0.0            0.0             0.000000   \n",
       "4               AGO  2010        0.0            0.0             0.000000   \n",
       "\n",
       "Technology  Geothermal energy  Marine energy  Multiple renewables  \\\n",
       "0                         0.0            0.0             0.000000   \n",
       "1                         0.0            0.0             0.038258   \n",
       "2                         0.0            0.0             0.000000   \n",
       "3                         0.0            0.0             0.000000   \n",
       "4                         0.0            0.0             0.013506   \n",
       "\n",
       "Technology  Natural gas  Nuclear  Oil  Other non-renewables  \\\n",
       "0                   0.0  0.00000  0.0                   0.0   \n",
       "1                   0.0  0.00000  0.0                   0.0   \n",
       "2                   0.0  0.00000  0.0                   0.0   \n",
       "3                   0.0  0.00000  0.0                   0.0   \n",
       "4                   0.0  0.29202  0.0                   0.0   \n",
       "\n",
       "Technology  Renewable hydropower  Solar energy  Wind energy  \n",
       "0                       0.000000      0.046284          0.0  \n",
       "1                       0.000000      0.000000          0.0  \n",
       "2                       0.000000      0.000000          0.0  \n",
       "3                       0.760908      0.000000          0.0  \n",
       "4                       0.006694      0.000000          0.0  "
      ]
     },
     "execution_count": 215,
     "metadata": {},
     "output_type": "execute_result"
    }
   ],
   "source": [
    "pivot_df = pivot_df.fillna(0)\n",
    "# pivot_df = pivot_df.drop(columns=['Marine energy'])\n",
    "pivot_df.head()"
   ]
  },
  {
   "cell_type": "code",
   "execution_count": 216,
   "id": "961a45d9",
   "metadata": {
    "ExecuteTime": {
     "end_time": "2022-11-08T22:52:50.681290Z",
     "start_time": "2022-11-08T22:52:48.350656Z"
    }
   },
   "outputs": [
    {
     "name": "stdout",
     "output_type": "stream",
     "text": [
      "(800, 16)\n"
     ]
    },
    {
     "name": "stderr",
     "output_type": "stream",
     "text": [
      "<ipython-input-216-3ac82a4ebfe4>:12: FutureWarning: The pandas.np module is deprecated and will be removed from pandas in a future version. Import numpy directly instead\n",
      "  rolling_df = rolling_df.iloc[pd.np.where(rolling_df[rolling_df.columns[2:-1]].gt(10**-12).any(1))]\n"
     ]
    },
    {
     "data": {
      "text/html": [
       "<div>\n",
       "<style scoped>\n",
       "    .dataframe tbody tr th:only-of-type {\n",
       "        vertical-align: middle;\n",
       "    }\n",
       "\n",
       "    .dataframe tbody tr th {\n",
       "        vertical-align: top;\n",
       "    }\n",
       "\n",
       "    .dataframe thead th {\n",
       "        text-align: right;\n",
       "    }\n",
       "</style>\n",
       "<table border=\"1\" class=\"dataframe\">\n",
       "  <thead>\n",
       "    <tr style=\"text-align: right;\">\n",
       "      <th>Technology</th>\n",
       "      <th>ISO-code</th>\n",
       "      <th>level_1</th>\n",
       "      <th>Bioenergy</th>\n",
       "      <th>Coal and peat</th>\n",
       "      <th>Fossil fuels n.e.s.</th>\n",
       "      <th>Geothermal energy</th>\n",
       "      <th>Marine energy</th>\n",
       "      <th>Multiple renewables</th>\n",
       "      <th>Natural gas</th>\n",
       "      <th>Nuclear</th>\n",
       "      <th>Oil</th>\n",
       "      <th>Other non-renewables</th>\n",
       "      <th>Renewable hydropower</th>\n",
       "      <th>Solar energy</th>\n",
       "      <th>Wind energy</th>\n",
       "      <th>Year</th>\n",
       "    </tr>\n",
       "  </thead>\n",
       "  <tbody>\n",
       "    <tr>\n",
       "      <th>3</th>\n",
       "      <td>AGO</td>\n",
       "      <td>3</td>\n",
       "      <td>0.0</td>\n",
       "      <td>0.0</td>\n",
       "      <td>0.000000</td>\n",
       "      <td>0.0</td>\n",
       "      <td>0.0</td>\n",
       "      <td>0.000000</td>\n",
       "      <td>0.0</td>\n",
       "      <td>0.0</td>\n",
       "      <td>0.0</td>\n",
       "      <td>0.0</td>\n",
       "      <td>0.000000</td>\n",
       "      <td>0.046284</td>\n",
       "      <td>0.0</td>\n",
       "      <td>2003</td>\n",
       "    </tr>\n",
       "    <tr>\n",
       "      <th>4</th>\n",
       "      <td>AGO</td>\n",
       "      <td>4</td>\n",
       "      <td>0.0</td>\n",
       "      <td>0.0</td>\n",
       "      <td>0.038248</td>\n",
       "      <td>0.0</td>\n",
       "      <td>0.0</td>\n",
       "      <td>0.038258</td>\n",
       "      <td>0.0</td>\n",
       "      <td>0.0</td>\n",
       "      <td>0.0</td>\n",
       "      <td>0.0</td>\n",
       "      <td>0.000000</td>\n",
       "      <td>0.046284</td>\n",
       "      <td>0.0</td>\n",
       "      <td>2004</td>\n",
       "    </tr>\n",
       "    <tr>\n",
       "      <th>5</th>\n",
       "      <td>AGO</td>\n",
       "      <td>5</td>\n",
       "      <td>0.0</td>\n",
       "      <td>0.0</td>\n",
       "      <td>0.038248</td>\n",
       "      <td>0.0</td>\n",
       "      <td>0.0</td>\n",
       "      <td>0.038258</td>\n",
       "      <td>0.0</td>\n",
       "      <td>0.0</td>\n",
       "      <td>0.0</td>\n",
       "      <td>0.0</td>\n",
       "      <td>0.000000</td>\n",
       "      <td>0.046284</td>\n",
       "      <td>0.0</td>\n",
       "      <td>2005</td>\n",
       "    </tr>\n",
       "    <tr>\n",
       "      <th>6</th>\n",
       "      <td>AGO</td>\n",
       "      <td>6</td>\n",
       "      <td>0.0</td>\n",
       "      <td>0.0</td>\n",
       "      <td>1.662775</td>\n",
       "      <td>0.0</td>\n",
       "      <td>0.0</td>\n",
       "      <td>0.038258</td>\n",
       "      <td>0.0</td>\n",
       "      <td>0.0</td>\n",
       "      <td>0.0</td>\n",
       "      <td>0.0</td>\n",
       "      <td>0.000000</td>\n",
       "      <td>0.000000</td>\n",
       "      <td>0.0</td>\n",
       "      <td>2006</td>\n",
       "    </tr>\n",
       "    <tr>\n",
       "      <th>7</th>\n",
       "      <td>AGO</td>\n",
       "      <td>7</td>\n",
       "      <td>0.0</td>\n",
       "      <td>0.0</td>\n",
       "      <td>1.624527</td>\n",
       "      <td>0.0</td>\n",
       "      <td>0.0</td>\n",
       "      <td>0.000000</td>\n",
       "      <td>0.0</td>\n",
       "      <td>0.0</td>\n",
       "      <td>0.0</td>\n",
       "      <td>0.0</td>\n",
       "      <td>0.760908</td>\n",
       "      <td>0.000000</td>\n",
       "      <td>0.0</td>\n",
       "      <td>2007</td>\n",
       "    </tr>\n",
       "  </tbody>\n",
       "</table>\n",
       "</div>"
      ],
      "text/plain": [
       "Technology ISO-code  level_1  Bioenergy  Coal and peat  Fossil fuels n.e.s.  \\\n",
       "3               AGO        3        0.0            0.0             0.000000   \n",
       "4               AGO        4        0.0            0.0             0.038248   \n",
       "5               AGO        5        0.0            0.0             0.038248   \n",
       "6               AGO        6        0.0            0.0             1.662775   \n",
       "7               AGO        7        0.0            0.0             1.624527   \n",
       "\n",
       "Technology  Geothermal energy  Marine energy  Multiple renewables  \\\n",
       "3                         0.0            0.0             0.000000   \n",
       "4                         0.0            0.0             0.038258   \n",
       "5                         0.0            0.0             0.038258   \n",
       "6                         0.0            0.0             0.038258   \n",
       "7                         0.0            0.0             0.000000   \n",
       "\n",
       "Technology  Natural gas  Nuclear  Oil  Other non-renewables  \\\n",
       "3                   0.0      0.0  0.0                   0.0   \n",
       "4                   0.0      0.0  0.0                   0.0   \n",
       "5                   0.0      0.0  0.0                   0.0   \n",
       "6                   0.0      0.0  0.0                   0.0   \n",
       "7                   0.0      0.0  0.0                   0.0   \n",
       "\n",
       "Technology  Renewable hydropower  Solar energy  Wind energy  Year  \n",
       "3                       0.000000      0.046284          0.0  2003  \n",
       "4                       0.000000      0.046284          0.0  2004  \n",
       "5                       0.000000      0.046284          0.0  2005  \n",
       "6                       0.000000      0.000000          0.0  2006  \n",
       "7                       0.760908      0.000000          0.0  2007  "
      ]
     },
     "execution_count": 216,
     "metadata": {},
     "output_type": "execute_result"
    }
   ],
   "source": [
    "for country in pivot_df['ISO-code'].unique():\n",
    "    mask1 = pivot_df['ISO-code'] == country\n",
    "    for year in range(2000,2021):\n",
    "        mask2 = pivot_df['Year'] == year\n",
    "        if len(pivot_df[(mask1)&(mask2)]) == 0:\n",
    "            pivot_df.loc[len(pivot_df.index)] = [country, year] + [0]*13\n",
    "            \n",
    "pivot_df = pivot_df.sort_values(['ISO-code','Year']).reset_index().iloc[:,1:]\n",
    "# df.groupby('id')['x'].rolling(2).mean()\n",
    "rolling_df = pivot_df.groupby(['ISO-code'])[pivot_df.columns[2:]].rolling(3).sum().reset_index().dropna()\n",
    "rolling_df['Year'] = pivot_df['Year']\n",
    "rolling_df = rolling_df.iloc[pd.np.where(rolling_df[rolling_df.columns[2:-1]].gt(10**-12).any(1))]\n",
    "print(rolling_df.shape)\n",
    "rolling_df.head()"
   ]
  },
  {
   "cell_type": "code",
   "execution_count": 217,
   "id": "d9c1b380",
   "metadata": {
    "ExecuteTime": {
     "end_time": "2022-11-08T22:52:50.712208Z",
     "start_time": "2022-11-08T22:52:50.684287Z"
    }
   },
   "outputs": [
    {
     "data": {
      "text/html": [
       "<div>\n",
       "<style scoped>\n",
       "    .dataframe tbody tr th:only-of-type {\n",
       "        vertical-align: middle;\n",
       "    }\n",
       "\n",
       "    .dataframe tbody tr th {\n",
       "        vertical-align: top;\n",
       "    }\n",
       "\n",
       "    .dataframe thead th {\n",
       "        text-align: right;\n",
       "    }\n",
       "</style>\n",
       "<table border=\"1\" class=\"dataframe\">\n",
       "  <thead>\n",
       "    <tr style=\"text-align: right;\">\n",
       "      <th></th>\n",
       "      <th>Country Code</th>\n",
       "      <th>variable</th>\n",
       "      <th>value</th>\n",
       "    </tr>\n",
       "  </thead>\n",
       "  <tbody>\n",
       "    <tr>\n",
       "      <th>0</th>\n",
       "      <td>AGO</td>\n",
       "      <td>1960</td>\n",
       "      <td>-1.0</td>\n",
       "    </tr>\n",
       "    <tr>\n",
       "      <th>48</th>\n",
       "      <td>AGO</td>\n",
       "      <td>1961</td>\n",
       "      <td>-1.0</td>\n",
       "    </tr>\n",
       "    <tr>\n",
       "      <th>96</th>\n",
       "      <td>AGO</td>\n",
       "      <td>1962</td>\n",
       "      <td>-1.0</td>\n",
       "    </tr>\n",
       "    <tr>\n",
       "      <th>144</th>\n",
       "      <td>AGO</td>\n",
       "      <td>1963</td>\n",
       "      <td>-1.0</td>\n",
       "    </tr>\n",
       "    <tr>\n",
       "      <th>192</th>\n",
       "      <td>AGO</td>\n",
       "      <td>1964</td>\n",
       "      <td>-1.0</td>\n",
       "    </tr>\n",
       "  </tbody>\n",
       "</table>\n",
       "</div>"
      ],
      "text/plain": [
       "    Country Code variable  value\n",
       "0            AGO     1960   -1.0\n",
       "48           AGO     1961   -1.0\n",
       "96           AGO     1962   -1.0\n",
       "144          AGO     1963   -1.0\n",
       "192          AGO     1964   -1.0"
      ]
     },
     "execution_count": 217,
     "metadata": {},
     "output_type": "execute_result"
    }
   ],
   "source": [
    "melt_df = electicify_df.iloc[:,:-2].drop(columns=['Country Name', 'Indicator Name','Indicator Code']).fillna(-1).melt(id_vars='Country Code').sort_values(by=['Country Code', 'variable'])\n",
    "melt_df.head()"
   ]
  },
  {
   "cell_type": "code",
   "execution_count": 218,
   "id": "81d0714a",
   "metadata": {
    "ExecuteTime": {
     "end_time": "2022-11-08T22:52:50.823909Z",
     "start_time": "2022-11-08T22:52:50.715199Z"
    }
   },
   "outputs": [
    {
     "data": {
      "text/html": [
       "<div>\n",
       "<style scoped>\n",
       "    .dataframe tbody tr th:only-of-type {\n",
       "        vertical-align: middle;\n",
       "    }\n",
       "\n",
       "    .dataframe tbody tr th {\n",
       "        vertical-align: top;\n",
       "    }\n",
       "\n",
       "    .dataframe thead th {\n",
       "        text-align: right;\n",
       "    }\n",
       "</style>\n",
       "<table border=\"1\" class=\"dataframe\">\n",
       "  <thead>\n",
       "    <tr style=\"text-align: right;\">\n",
       "      <th></th>\n",
       "      <th>Country Code</th>\n",
       "      <th>variable</th>\n",
       "      <th>value</th>\n",
       "      <th>shift</th>\n",
       "      <th>shift_c</th>\n",
       "      <th>delta</th>\n",
       "    </tr>\n",
       "  </thead>\n",
       "  <tbody>\n",
       "    <tr>\n",
       "      <th>2400</th>\n",
       "      <td>AGO</td>\n",
       "      <td>2010</td>\n",
       "      <td>34.895638</td>\n",
       "      <td>33.802189</td>\n",
       "      <td>AGO</td>\n",
       "      <td>1.093449</td>\n",
       "    </tr>\n",
       "    <tr>\n",
       "      <th>2448</th>\n",
       "      <td>AGO</td>\n",
       "      <td>2011</td>\n",
       "      <td>34.599998</td>\n",
       "      <td>34.895638</td>\n",
       "      <td>AGO</td>\n",
       "      <td>-0.295639</td>\n",
       "    </tr>\n",
       "    <tr>\n",
       "      <th>2496</th>\n",
       "      <td>AGO</td>\n",
       "      <td>2012</td>\n",
       "      <td>37.131321</td>\n",
       "      <td>34.599998</td>\n",
       "      <td>AGO</td>\n",
       "      <td>2.531322</td>\n",
       "    </tr>\n",
       "    <tr>\n",
       "      <th>2544</th>\n",
       "      <td>AGO</td>\n",
       "      <td>2013</td>\n",
       "      <td>38.278030</td>\n",
       "      <td>37.131321</td>\n",
       "      <td>AGO</td>\n",
       "      <td>1.146709</td>\n",
       "    </tr>\n",
       "    <tr>\n",
       "      <th>2592</th>\n",
       "      <td>AGO</td>\n",
       "      <td>2014</td>\n",
       "      <td>32.000000</td>\n",
       "      <td>38.278030</td>\n",
       "      <td>AGO</td>\n",
       "      <td>-6.278030</td>\n",
       "    </tr>\n",
       "    <tr>\n",
       "      <th>2640</th>\n",
       "      <td>AGO</td>\n",
       "      <td>2015</td>\n",
       "      <td>42.000000</td>\n",
       "      <td>32.000000</td>\n",
       "      <td>AGO</td>\n",
       "      <td>10.000000</td>\n",
       "    </tr>\n",
       "    <tr>\n",
       "      <th>2688</th>\n",
       "      <td>AGO</td>\n",
       "      <td>2016</td>\n",
       "      <td>41.813129</td>\n",
       "      <td>42.000000</td>\n",
       "      <td>AGO</td>\n",
       "      <td>-0.186871</td>\n",
       "    </tr>\n",
       "    <tr>\n",
       "      <th>2736</th>\n",
       "      <td>AGO</td>\n",
       "      <td>2017</td>\n",
       "      <td>43.013260</td>\n",
       "      <td>41.813129</td>\n",
       "      <td>AGO</td>\n",
       "      <td>1.200130</td>\n",
       "    </tr>\n",
       "    <tr>\n",
       "      <th>2784</th>\n",
       "      <td>AGO</td>\n",
       "      <td>2018</td>\n",
       "      <td>45.290001</td>\n",
       "      <td>43.013260</td>\n",
       "      <td>AGO</td>\n",
       "      <td>2.276741</td>\n",
       "    </tr>\n",
       "    <tr>\n",
       "      <th>2832</th>\n",
       "      <td>AGO</td>\n",
       "      <td>2019</td>\n",
       "      <td>45.642799</td>\n",
       "      <td>45.290001</td>\n",
       "      <td>AGO</td>\n",
       "      <td>0.352798</td>\n",
       "    </tr>\n",
       "    <tr>\n",
       "      <th>2880</th>\n",
       "      <td>AGO</td>\n",
       "      <td>2020</td>\n",
       "      <td>46.890610</td>\n",
       "      <td>45.642799</td>\n",
       "      <td>AGO</td>\n",
       "      <td>1.247810</td>\n",
       "    </tr>\n",
       "    <tr>\n",
       "      <th>1</th>\n",
       "      <td>BDI</td>\n",
       "      <td>1960</td>\n",
       "      <td>-1.000000</td>\n",
       "      <td>46.890610</td>\n",
       "      <td>AGO</td>\n",
       "      <td>-1.000000</td>\n",
       "    </tr>\n",
       "    <tr>\n",
       "      <th>49</th>\n",
       "      <td>BDI</td>\n",
       "      <td>1961</td>\n",
       "      <td>-1.000000</td>\n",
       "      <td>-1.000000</td>\n",
       "      <td>BDI</td>\n",
       "      <td>0.000000</td>\n",
       "    </tr>\n",
       "    <tr>\n",
       "      <th>97</th>\n",
       "      <td>BDI</td>\n",
       "      <td>1962</td>\n",
       "      <td>-1.000000</td>\n",
       "      <td>-1.000000</td>\n",
       "      <td>BDI</td>\n",
       "      <td>0.000000</td>\n",
       "    </tr>\n",
       "    <tr>\n",
       "      <th>145</th>\n",
       "      <td>BDI</td>\n",
       "      <td>1963</td>\n",
       "      <td>-1.000000</td>\n",
       "      <td>-1.000000</td>\n",
       "      <td>BDI</td>\n",
       "      <td>0.000000</td>\n",
       "    </tr>\n",
       "    <tr>\n",
       "      <th>193</th>\n",
       "      <td>BDI</td>\n",
       "      <td>1964</td>\n",
       "      <td>-1.000000</td>\n",
       "      <td>-1.000000</td>\n",
       "      <td>BDI</td>\n",
       "      <td>0.000000</td>\n",
       "    </tr>\n",
       "    <tr>\n",
       "      <th>241</th>\n",
       "      <td>BDI</td>\n",
       "      <td>1965</td>\n",
       "      <td>-1.000000</td>\n",
       "      <td>-1.000000</td>\n",
       "      <td>BDI</td>\n",
       "      <td>0.000000</td>\n",
       "    </tr>\n",
       "    <tr>\n",
       "      <th>289</th>\n",
       "      <td>BDI</td>\n",
       "      <td>1966</td>\n",
       "      <td>-1.000000</td>\n",
       "      <td>-1.000000</td>\n",
       "      <td>BDI</td>\n",
       "      <td>0.000000</td>\n",
       "    </tr>\n",
       "    <tr>\n",
       "      <th>337</th>\n",
       "      <td>BDI</td>\n",
       "      <td>1967</td>\n",
       "      <td>-1.000000</td>\n",
       "      <td>-1.000000</td>\n",
       "      <td>BDI</td>\n",
       "      <td>0.000000</td>\n",
       "    </tr>\n",
       "    <tr>\n",
       "      <th>385</th>\n",
       "      <td>BDI</td>\n",
       "      <td>1968</td>\n",
       "      <td>-1.000000</td>\n",
       "      <td>-1.000000</td>\n",
       "      <td>BDI</td>\n",
       "      <td>0.000000</td>\n",
       "    </tr>\n",
       "  </tbody>\n",
       "</table>\n",
       "</div>"
      ],
      "text/plain": [
       "     Country Code  variable      value      shift shift_c      delta\n",
       "2400          AGO      2010  34.895638  33.802189     AGO   1.093449\n",
       "2448          AGO      2011  34.599998  34.895638     AGO  -0.295639\n",
       "2496          AGO      2012  37.131321  34.599998     AGO   2.531322\n",
       "2544          AGO      2013  38.278030  37.131321     AGO   1.146709\n",
       "2592          AGO      2014  32.000000  38.278030     AGO  -6.278030\n",
       "2640          AGO      2015  42.000000  32.000000     AGO  10.000000\n",
       "2688          AGO      2016  41.813129  42.000000     AGO  -0.186871\n",
       "2736          AGO      2017  43.013260  41.813129     AGO   1.200130\n",
       "2784          AGO      2018  45.290001  43.013260     AGO   2.276741\n",
       "2832          AGO      2019  45.642799  45.290001     AGO   0.352798\n",
       "2880          AGO      2020  46.890610  45.642799     AGO   1.247810\n",
       "1             BDI      1960  -1.000000  46.890610     AGO  -1.000000\n",
       "49            BDI      1961  -1.000000  -1.000000     BDI   0.000000\n",
       "97            BDI      1962  -1.000000  -1.000000     BDI   0.000000\n",
       "145           BDI      1963  -1.000000  -1.000000     BDI   0.000000\n",
       "193           BDI      1964  -1.000000  -1.000000     BDI   0.000000\n",
       "241           BDI      1965  -1.000000  -1.000000     BDI   0.000000\n",
       "289           BDI      1966  -1.000000  -1.000000     BDI   0.000000\n",
       "337           BDI      1967  -1.000000  -1.000000     BDI   0.000000\n",
       "385           BDI      1968  -1.000000  -1.000000     BDI   0.000000"
      ]
     },
     "execution_count": 218,
     "metadata": {},
     "output_type": "execute_result"
    }
   ],
   "source": [
    "melt_df['shift'] = melt_df.value.shift(1)\n",
    "melt_df['shift_c'] = melt_df['Country Code'].shift(1)\n",
    "melt_df['delta'] = melt_df.apply(lambda row: row['value']-row['shift'] if row['shift_c'] == row['Country Code'] else -1,axis=1)\n",
    "melt_df['variable'] = melt_df['variable'].astype('int64')\n",
    "melt_df.iloc[50:70]"
   ]
  },
  {
   "cell_type": "code",
   "execution_count": 219,
   "id": "d76e811b",
   "metadata": {
    "ExecuteTime": {
     "end_time": "2022-11-08T22:52:50.887736Z",
     "start_time": "2022-11-08T22:52:50.826899Z"
    }
   },
   "outputs": [
    {
     "data": {
      "text/html": [
       "<div>\n",
       "<style scoped>\n",
       "    .dataframe tbody tr th:only-of-type {\n",
       "        vertical-align: middle;\n",
       "    }\n",
       "\n",
       "    .dataframe tbody tr th {\n",
       "        vertical-align: top;\n",
       "    }\n",
       "\n",
       "    .dataframe thead th {\n",
       "        text-align: right;\n",
       "    }\n",
       "</style>\n",
       "<table border=\"1\" class=\"dataframe\">\n",
       "  <thead>\n",
       "    <tr style=\"text-align: right;\">\n",
       "      <th></th>\n",
       "      <th>ISO-code</th>\n",
       "      <th>Bioenergy</th>\n",
       "      <th>Coal and peat</th>\n",
       "      <th>Fossil fuels n.e.s.</th>\n",
       "      <th>Geothermal energy</th>\n",
       "      <th>Marine energy</th>\n",
       "      <th>Multiple renewables</th>\n",
       "      <th>Natural gas</th>\n",
       "      <th>Nuclear</th>\n",
       "      <th>Oil</th>\n",
       "      <th>Other non-renewables</th>\n",
       "      <th>Renewable hydropower</th>\n",
       "      <th>Solar energy</th>\n",
       "      <th>Wind energy</th>\n",
       "      <th>Year</th>\n",
       "      <th>delta</th>\n",
       "    </tr>\n",
       "  </thead>\n",
       "  <tbody>\n",
       "    <tr>\n",
       "      <th>787</th>\n",
       "      <td>ZWE</td>\n",
       "      <td>0.0</td>\n",
       "      <td>0.000000</td>\n",
       "      <td>0.046361</td>\n",
       "      <td>0.0</td>\n",
       "      <td>0.0</td>\n",
       "      <td>5.684342e-14</td>\n",
       "      <td>0.0</td>\n",
       "      <td>0.000000e+00</td>\n",
       "      <td>0.000000e+00</td>\n",
       "      <td>0.0</td>\n",
       "      <td>-2.273737e-13</td>\n",
       "      <td>4.990002e-01</td>\n",
       "      <td>0.000000e+00</td>\n",
       "      <td>2007</td>\n",
       "      <td>0.004009</td>\n",
       "    </tr>\n",
       "    <tr>\n",
       "      <th>34</th>\n",
       "      <td>BEN</td>\n",
       "      <td>0.0</td>\n",
       "      <td>0.000000</td>\n",
       "      <td>0.000000</td>\n",
       "      <td>0.0</td>\n",
       "      <td>0.0</td>\n",
       "      <td>0.000000e+00</td>\n",
       "      <td>0.0</td>\n",
       "      <td>0.000000e+00</td>\n",
       "      <td>0.000000e+00</td>\n",
       "      <td>0.0</td>\n",
       "      <td>9.225732e-02</td>\n",
       "      <td>1.421085e-14</td>\n",
       "      <td>0.000000e+00</td>\n",
       "      <td>2003</td>\n",
       "      <td>0.933395</td>\n",
       "    </tr>\n",
       "    <tr>\n",
       "      <th>415</th>\n",
       "      <td>MLI</td>\n",
       "      <td>0.0</td>\n",
       "      <td>0.000000</td>\n",
       "      <td>90.068286</td>\n",
       "      <td>0.0</td>\n",
       "      <td>0.0</td>\n",
       "      <td>5.895245e-01</td>\n",
       "      <td>0.0</td>\n",
       "      <td>0.000000e+00</td>\n",
       "      <td>0.000000e+00</td>\n",
       "      <td>0.0</td>\n",
       "      <td>3.780854e+01</td>\n",
       "      <td>1.822613e-01</td>\n",
       "      <td>0.000000e+00</td>\n",
       "      <td>2009</td>\n",
       "      <td>0.620289</td>\n",
       "    </tr>\n",
       "    <tr>\n",
       "      <th>418</th>\n",
       "      <td>MLI</td>\n",
       "      <td>0.0</td>\n",
       "      <td>28.696612</td>\n",
       "      <td>21.233490</td>\n",
       "      <td>0.0</td>\n",
       "      <td>0.0</td>\n",
       "      <td>1.785030e-01</td>\n",
       "      <td>0.0</td>\n",
       "      <td>0.000000e+00</td>\n",
       "      <td>0.000000e+00</td>\n",
       "      <td>0.0</td>\n",
       "      <td>0.000000e+00</td>\n",
       "      <td>2.481353e-01</td>\n",
       "      <td>0.000000e+00</td>\n",
       "      <td>2012</td>\n",
       "      <td>-3.084454</td>\n",
       "    </tr>\n",
       "    <tr>\n",
       "      <th>272</th>\n",
       "      <td>GIN</td>\n",
       "      <td>0.0</td>\n",
       "      <td>0.000000</td>\n",
       "      <td>2.647402</td>\n",
       "      <td>0.0</td>\n",
       "      <td>0.0</td>\n",
       "      <td>2.491672e+00</td>\n",
       "      <td>0.0</td>\n",
       "      <td>0.000000e+00</td>\n",
       "      <td>0.000000e+00</td>\n",
       "      <td>0.0</td>\n",
       "      <td>0.000000e+00</td>\n",
       "      <td>0.000000e+00</td>\n",
       "      <td>0.000000e+00</td>\n",
       "      <td>2006</td>\n",
       "      <td>2.596291</td>\n",
       "    </tr>\n",
       "    <tr>\n",
       "      <th>180</th>\n",
       "      <td>COM</td>\n",
       "      <td>0.0</td>\n",
       "      <td>0.000000</td>\n",
       "      <td>0.000000</td>\n",
       "      <td>0.0</td>\n",
       "      <td>0.0</td>\n",
       "      <td>4.445511e-02</td>\n",
       "      <td>0.0</td>\n",
       "      <td>0.000000e+00</td>\n",
       "      <td>0.000000e+00</td>\n",
       "      <td>0.0</td>\n",
       "      <td>1.115409e+01</td>\n",
       "      <td>1.388046e-01</td>\n",
       "      <td>-1.387779e-17</td>\n",
       "      <td>2018</td>\n",
       "      <td>2.435905</td>\n",
       "    </tr>\n",
       "    <tr>\n",
       "      <th>448</th>\n",
       "      <td>MRT</td>\n",
       "      <td>0.0</td>\n",
       "      <td>0.000000</td>\n",
       "      <td>30.956818</td>\n",
       "      <td>0.0</td>\n",
       "      <td>0.0</td>\n",
       "      <td>5.684342e-14</td>\n",
       "      <td>0.0</td>\n",
       "      <td>0.000000e+00</td>\n",
       "      <td>0.000000e+00</td>\n",
       "      <td>0.0</td>\n",
       "      <td>0.000000e+00</td>\n",
       "      <td>-1.421085e-14</td>\n",
       "      <td>0.000000e+00</td>\n",
       "      <td>2004</td>\n",
       "      <td>1.366631</td>\n",
       "    </tr>\n",
       "    <tr>\n",
       "      <th>38</th>\n",
       "      <td>BEN</td>\n",
       "      <td>0.0</td>\n",
       "      <td>0.000000</td>\n",
       "      <td>3.842012</td>\n",
       "      <td>0.0</td>\n",
       "      <td>0.0</td>\n",
       "      <td>8.537802e+00</td>\n",
       "      <td>0.0</td>\n",
       "      <td>0.000000e+00</td>\n",
       "      <td>0.000000e+00</td>\n",
       "      <td>0.0</td>\n",
       "      <td>0.000000e+00</td>\n",
       "      <td>1.421085e-14</td>\n",
       "      <td>0.000000e+00</td>\n",
       "      <td>2007</td>\n",
       "      <td>0.178017</td>\n",
       "    </tr>\n",
       "    <tr>\n",
       "      <th>380</th>\n",
       "      <td>LSO</td>\n",
       "      <td>0.0</td>\n",
       "      <td>0.000000</td>\n",
       "      <td>0.000000</td>\n",
       "      <td>0.0</td>\n",
       "      <td>0.0</td>\n",
       "      <td>4.626341e-02</td>\n",
       "      <td>0.0</td>\n",
       "      <td>0.000000e+00</td>\n",
       "      <td>0.000000e+00</td>\n",
       "      <td>0.0</td>\n",
       "      <td>1.814123e-01</td>\n",
       "      <td>2.842484e+00</td>\n",
       "      <td>0.000000e+00</td>\n",
       "      <td>2012</td>\n",
       "      <td>-1.845442</td>\n",
       "    </tr>\n",
       "    <tr>\n",
       "      <th>666</th>\n",
       "      <td>SWZ</td>\n",
       "      <td>0.0</td>\n",
       "      <td>0.000000</td>\n",
       "      <td>0.000000</td>\n",
       "      <td>0.0</td>\n",
       "      <td>0.0</td>\n",
       "      <td>1.183330e+01</td>\n",
       "      <td>0.0</td>\n",
       "      <td>2.220446e-16</td>\n",
       "      <td>2.842171e-14</td>\n",
       "      <td>0.0</td>\n",
       "      <td>0.000000e+00</td>\n",
       "      <td>1.506746e+00</td>\n",
       "      <td>0.000000e+00</td>\n",
       "      <td>2020</td>\n",
       "      <td>2.861061</td>\n",
       "    </tr>\n",
       "  </tbody>\n",
       "</table>\n",
       "</div>"
      ],
      "text/plain": [
       "    ISO-code  Bioenergy  Coal and peat  Fossil fuels n.e.s.  \\\n",
       "787      ZWE        0.0       0.000000             0.046361   \n",
       "34       BEN        0.0       0.000000             0.000000   \n",
       "415      MLI        0.0       0.000000            90.068286   \n",
       "418      MLI        0.0      28.696612            21.233490   \n",
       "272      GIN        0.0       0.000000             2.647402   \n",
       "180      COM        0.0       0.000000             0.000000   \n",
       "448      MRT        0.0       0.000000            30.956818   \n",
       "38       BEN        0.0       0.000000             3.842012   \n",
       "380      LSO        0.0       0.000000             0.000000   \n",
       "666      SWZ        0.0       0.000000             0.000000   \n",
       "\n",
       "     Geothermal energy  Marine energy  Multiple renewables  Natural gas  \\\n",
       "787                0.0            0.0         5.684342e-14          0.0   \n",
       "34                 0.0            0.0         0.000000e+00          0.0   \n",
       "415                0.0            0.0         5.895245e-01          0.0   \n",
       "418                0.0            0.0         1.785030e-01          0.0   \n",
       "272                0.0            0.0         2.491672e+00          0.0   \n",
       "180                0.0            0.0         4.445511e-02          0.0   \n",
       "448                0.0            0.0         5.684342e-14          0.0   \n",
       "38                 0.0            0.0         8.537802e+00          0.0   \n",
       "380                0.0            0.0         4.626341e-02          0.0   \n",
       "666                0.0            0.0         1.183330e+01          0.0   \n",
       "\n",
       "          Nuclear           Oil  Other non-renewables  Renewable hydropower  \\\n",
       "787  0.000000e+00  0.000000e+00                   0.0         -2.273737e-13   \n",
       "34   0.000000e+00  0.000000e+00                   0.0          9.225732e-02   \n",
       "415  0.000000e+00  0.000000e+00                   0.0          3.780854e+01   \n",
       "418  0.000000e+00  0.000000e+00                   0.0          0.000000e+00   \n",
       "272  0.000000e+00  0.000000e+00                   0.0          0.000000e+00   \n",
       "180  0.000000e+00  0.000000e+00                   0.0          1.115409e+01   \n",
       "448  0.000000e+00  0.000000e+00                   0.0          0.000000e+00   \n",
       "38   0.000000e+00  0.000000e+00                   0.0          0.000000e+00   \n",
       "380  0.000000e+00  0.000000e+00                   0.0          1.814123e-01   \n",
       "666  2.220446e-16  2.842171e-14                   0.0          0.000000e+00   \n",
       "\n",
       "     Solar energy   Wind energy  Year     delta  \n",
       "787  4.990002e-01  0.000000e+00  2007  0.004009  \n",
       "34   1.421085e-14  0.000000e+00  2003  0.933395  \n",
       "415  1.822613e-01  0.000000e+00  2009  0.620289  \n",
       "418  2.481353e-01  0.000000e+00  2012 -3.084454  \n",
       "272  0.000000e+00  0.000000e+00  2006  2.596291  \n",
       "180  1.388046e-01 -1.387779e-17  2018  2.435905  \n",
       "448 -1.421085e-14  0.000000e+00  2004  1.366631  \n",
       "38   1.421085e-14  0.000000e+00  2007  0.178017  \n",
       "380  2.842484e+00  0.000000e+00  2012 -1.845442  \n",
       "666  1.506746e+00  0.000000e+00  2020  2.861061  "
      ]
     },
     "execution_count": 219,
     "metadata": {},
     "output_type": "execute_result"
    }
   ],
   "source": [
    "transformed_df = rolling_df.merge(melt_df, left_on=['ISO-code','Year'], right_on=['Country Code', 'variable'])\n",
    "transformed_df = transformed_df.drop(columns=['Country Code','variable','value','shift','shift_c','level_1'])\n",
    "transformed_df.to_csv('transformed_df.csv')\n",
    "transformed_df.sample(10)"
   ]
  },
  {
   "cell_type": "code",
   "execution_count": 220,
   "id": "6d7bed81",
   "metadata": {
    "ExecuteTime": {
     "end_time": "2022-11-08T22:52:51.594735Z",
     "start_time": "2022-11-08T22:52:51.574811Z"
    }
   },
   "outputs": [
    {
     "data": {
      "text/html": [
       "<div>\n",
       "<style scoped>\n",
       "    .dataframe tbody tr th:only-of-type {\n",
       "        vertical-align: middle;\n",
       "    }\n",
       "\n",
       "    .dataframe tbody tr th {\n",
       "        vertical-align: top;\n",
       "    }\n",
       "\n",
       "    .dataframe thead th {\n",
       "        text-align: right;\n",
       "    }\n",
       "</style>\n",
       "<table border=\"1\" class=\"dataframe\">\n",
       "  <thead>\n",
       "    <tr style=\"text-align: right;\">\n",
       "      <th></th>\n",
       "      <th>Technology</th>\n",
       "      <th>Category</th>\n",
       "    </tr>\n",
       "  </thead>\n",
       "  <tbody>\n",
       "    <tr>\n",
       "      <th>881</th>\n",
       "      <td>Oil</td>\n",
       "      <td>Non-renewables</td>\n",
       "    </tr>\n",
       "    <tr>\n",
       "      <th>882</th>\n",
       "      <td>Fossil fuels n.e.s.</td>\n",
       "      <td>Non-renewables</td>\n",
       "    </tr>\n",
       "    <tr>\n",
       "      <th>892</th>\n",
       "      <td>Nuclear</td>\n",
       "      <td>Non-renewables</td>\n",
       "    </tr>\n",
       "    <tr>\n",
       "      <th>911</th>\n",
       "      <td>Natural gas</td>\n",
       "      <td>Non-renewables</td>\n",
       "    </tr>\n",
       "    <tr>\n",
       "      <th>977</th>\n",
       "      <td>Coal and peat</td>\n",
       "      <td>Non-renewables</td>\n",
       "    </tr>\n",
       "    <tr>\n",
       "      <th>1012</th>\n",
       "      <td>Other non-renewables</td>\n",
       "      <td>Non-renewables</td>\n",
       "    </tr>\n",
       "    <tr>\n",
       "      <th>880</th>\n",
       "      <td>Multiple renewables</td>\n",
       "      <td>Renewables</td>\n",
       "    </tr>\n",
       "    <tr>\n",
       "      <th>886</th>\n",
       "      <td>Solar energy</td>\n",
       "      <td>Renewables</td>\n",
       "    </tr>\n",
       "    <tr>\n",
       "      <th>899</th>\n",
       "      <td>Renewable hydropower</td>\n",
       "      <td>Renewables</td>\n",
       "    </tr>\n",
       "    <tr>\n",
       "      <th>900</th>\n",
       "      <td>Bioenergy</td>\n",
       "      <td>Renewables</td>\n",
       "    </tr>\n",
       "    <tr>\n",
       "      <th>901</th>\n",
       "      <td>Wind energy</td>\n",
       "      <td>Renewables</td>\n",
       "    </tr>\n",
       "    <tr>\n",
       "      <th>942</th>\n",
       "      <td>Geothermal energy</td>\n",
       "      <td>Renewables</td>\n",
       "    </tr>\n",
       "    <tr>\n",
       "      <th>4720</th>\n",
       "      <td>Marine energy</td>\n",
       "      <td>Renewables</td>\n",
       "    </tr>\n",
       "  </tbody>\n",
       "</table>\n",
       "</div>"
      ],
      "text/plain": [
       "                Technology        Category\n",
       "881                    Oil  Non-renewables\n",
       "882    Fossil fuels n.e.s.  Non-renewables\n",
       "892                Nuclear  Non-renewables\n",
       "911            Natural gas  Non-renewables\n",
       "977          Coal and peat  Non-renewables\n",
       "1012  Other non-renewables  Non-renewables\n",
       "880    Multiple renewables      Renewables\n",
       "886           Solar energy      Renewables\n",
       "899   Renewable hydropower      Renewables\n",
       "900              Bioenergy      Renewables\n",
       "901            Wind energy      Renewables\n",
       "942      Geothermal energy      Renewables\n",
       "4720         Marine energy      Renewables"
      ]
     },
     "execution_count": 220,
     "metadata": {},
     "output_type": "execute_result"
    }
   ],
   "source": [
    "technology_list = finance_df.drop_duplicates(['Technology', 'Category']).sort_values(['Category'])[['Technology', 'Category']]\n",
    "technology_list"
   ]
  },
  {
   "cell_type": "code",
   "execution_count": 221,
   "id": "06a64fee",
   "metadata": {
    "ExecuteTime": {
     "end_time": "2022-11-08T22:53:22.895854Z",
     "start_time": "2022-11-08T22:53:22.873910Z"
    }
   },
   "outputs": [
    {
     "data": {
      "text/html": [
       "<div>\n",
       "<style scoped>\n",
       "    .dataframe tbody tr th:only-of-type {\n",
       "        vertical-align: middle;\n",
       "    }\n",
       "\n",
       "    .dataframe tbody tr th {\n",
       "        vertical-align: top;\n",
       "    }\n",
       "\n",
       "    .dataframe thead th {\n",
       "        text-align: right;\n",
       "    }\n",
       "</style>\n",
       "<table border=\"1\" class=\"dataframe\">\n",
       "  <thead>\n",
       "    <tr style=\"text-align: right;\">\n",
       "      <th></th>\n",
       "      <th>Multiple renewables</th>\n",
       "      <th>Solar energy</th>\n",
       "      <th>Renewable hydropower</th>\n",
       "      <th>Bioenergy</th>\n",
       "      <th>Wind energy</th>\n",
       "      <th>Geothermal energy</th>\n",
       "      <th>delta</th>\n",
       "    </tr>\n",
       "  </thead>\n",
       "  <tbody>\n",
       "    <tr>\n",
       "      <th>0</th>\n",
       "      <td>0.000000</td>\n",
       "      <td>0.046284</td>\n",
       "      <td>0.000000</td>\n",
       "      <td>0.0</td>\n",
       "      <td>0.0</td>\n",
       "      <td>0.0</td>\n",
       "      <td>1.060659</td>\n",
       "    </tr>\n",
       "    <tr>\n",
       "      <th>1</th>\n",
       "      <td>0.038258</td>\n",
       "      <td>0.046284</td>\n",
       "      <td>0.000000</td>\n",
       "      <td>0.0</td>\n",
       "      <td>0.0</td>\n",
       "      <td>0.0</td>\n",
       "      <td>1.057774</td>\n",
       "    </tr>\n",
       "    <tr>\n",
       "      <th>2</th>\n",
       "      <td>0.038258</td>\n",
       "      <td>0.046284</td>\n",
       "      <td>0.000000</td>\n",
       "      <td>0.0</td>\n",
       "      <td>0.0</td>\n",
       "      <td>0.0</td>\n",
       "      <td>1.057236</td>\n",
       "    </tr>\n",
       "    <tr>\n",
       "      <th>3</th>\n",
       "      <td>0.038258</td>\n",
       "      <td>0.000000</td>\n",
       "      <td>0.000000</td>\n",
       "      <td>0.0</td>\n",
       "      <td>0.0</td>\n",
       "      <td>0.0</td>\n",
       "      <td>1.059109</td>\n",
       "    </tr>\n",
       "    <tr>\n",
       "      <th>4</th>\n",
       "      <td>0.000000</td>\n",
       "      <td>0.000000</td>\n",
       "      <td>0.760908</td>\n",
       "      <td>0.0</td>\n",
       "      <td>0.0</td>\n",
       "      <td>0.0</td>\n",
       "      <td>6.913105</td>\n",
       "    </tr>\n",
       "  </tbody>\n",
       "</table>\n",
       "</div>"
      ],
      "text/plain": [
       "   Multiple renewables  Solar energy  Renewable hydropower  Bioenergy  \\\n",
       "0             0.000000      0.046284              0.000000        0.0   \n",
       "1             0.038258      0.046284              0.000000        0.0   \n",
       "2             0.038258      0.046284              0.000000        0.0   \n",
       "3             0.038258      0.000000              0.000000        0.0   \n",
       "4             0.000000      0.000000              0.760908        0.0   \n",
       "\n",
       "   Wind energy  Geothermal energy     delta  \n",
       "0          0.0                0.0  1.060659  \n",
       "1          0.0                0.0  1.057774  \n",
       "2          0.0                0.0  1.057236  \n",
       "3          0.0                0.0  1.059109  \n",
       "4          0.0                0.0  6.913105  "
      ]
     },
     "execution_count": 221,
     "metadata": {},
     "output_type": "execute_result"
    }
   ],
   "source": [
    "filter_df = transformed_df[technology_list.loc[technology_list.Category == 'Renewables','Technology'].to_list()+['delta']]\n",
    "filter_df = filter_df.drop(columns=['Marine energy'])\n",
    "filter_df.head()"
   ]
  },
  {
   "cell_type": "markdown",
   "id": "5864f19a",
   "metadata": {},
   "source": [
    "# Analysis\n",
    "#### Values Transform"
   ]
  },
  {
   "cell_type": "code",
   "execution_count": 222,
   "id": "21dc2c8c",
   "metadata": {
    "ExecuteTime": {
     "end_time": "2022-11-08T22:53:26.154346Z",
     "start_time": "2022-11-08T22:53:26.135404Z"
    }
   },
   "outputs": [],
   "source": [
    "x_raw = filter_df.iloc[:,:-1]\n",
    "y_raw = y = filter_df.delta"
   ]
  },
  {
   "cell_type": "code",
   "execution_count": 223,
   "id": "f9dbc8c1",
   "metadata": {
    "ExecuteTime": {
     "end_time": "2022-11-08T22:53:27.284200Z",
     "start_time": "2022-11-08T22:53:26.488952Z"
    }
   },
   "outputs": [
    {
     "data": {
      "text/plain": [
       "array([[<AxesSubplot:title={'center':'Multiple renewables'}>,\n",
       "        <AxesSubplot:title={'center':'Solar energy'}>],\n",
       "       [<AxesSubplot:title={'center':'Renewable hydropower'}>,\n",
       "        <AxesSubplot:title={'center':'Bioenergy'}>],\n",
       "       [<AxesSubplot:title={'center':'Wind energy'}>,\n",
       "        <AxesSubplot:title={'center':'Geothermal energy'}>]], dtype=object)"
      ]
     },
     "execution_count": 223,
     "metadata": {},
     "output_type": "execute_result"
    },
    {
     "data": {
      "image/png": "[encoded data removed]",
      "text/plain": [
       "<Figure size 842.4x595.44 with 6 Axes>"
      ]
     },
     "metadata": {},
     "output_type": "display_data"
    }
   ],
   "source": [
    "x_transformer = PowerTransformer()\n",
    "x = pd.DataFrame(x_transformer.fit_transform(x_raw), columns= x_raw.columns)\n",
    "x.hist()"
   ]
  },
  {
   "cell_type": "code",
   "execution_count": 224,
   "id": "1380c22b",
   "metadata": {
    "ExecuteTime": {
     "end_time": "2022-11-08T22:53:27.484926Z",
     "start_time": "2022-11-08T22:53:27.288190Z"
    }
   },
   "outputs": [
    {
     "data": {
      "text/plain": [
       "[Text(0.5, 0, 'Correlation to Electrification Increase'),\n",
       " Text(0, 0.5, 'Renewable Technologies')]"
      ]
     },
     "execution_count": 224,
     "metadata": {},
     "output_type": "execute_result"
    },
    {
     "data": {
      "image/png": "[encoded data removed]",
      "text/plain": [
       "<Figure size 842.4x595.44 with 1 Axes>"
      ]
     },
     "metadata": {},
     "output_type": "display_data"
    }
   ],
   "source": [
    "a = x.copy()\n",
    "a['Y'] = y\n",
    "a = a.corr().Y.iloc[:-1]\n",
    "ax = sns.barplot(data = a.reset_index().sort_values('Y',ascending=False), x='Y', y='index', palette='cool', orient='h')\n",
    "ax.set(xlabel='Correlation to Electrification Increase', ylabel='Renewable Technologies')"
   ]
  },
  {
   "cell_type": "markdown",
   "id": "ebe9bb98",
   "metadata": {},
   "source": [
    "#### Outliers handling"
   ]
  },
  {
   "cell_type": "code",
   "execution_count": 225,
   "id": "f6289588",
   "metadata": {
    "ExecuteTime": {
     "end_time": "2022-11-08T22:53:29.841016Z",
     "start_time": "2022-11-08T22:53:29.819074Z"
    }
   },
   "outputs": [],
   "source": [
    "X_lm = x.copy()\n",
    "X_lm = sm.add_constant(X_lm)\n",
    "model = sm.OLS(y, X_lm).fit() "
   ]
  },
  {
   "cell_type": "code",
   "execution_count": 226,
   "id": "4aaf8173",
   "metadata": {
    "ExecuteTime": {
     "end_time": "2022-11-08T22:53:30.373025Z",
     "start_time": "2022-11-08T22:53:30.197396Z"
    }
   },
   "outputs": [
    {
     "data": {
      "image/png": "[encoded data removed]",
      "text/plain": [
       "<Figure size 842.4x595.44 with 1 Axes>"
      ]
     },
     "metadata": {},
     "output_type": "display_data"
    }
   ],
   "source": [
    "\n",
    "\n",
    "#create instance of influence\n",
    "influence = model.get_influence()\n",
    "cooks = influence.cooks_distance\n",
    "\n",
    "\n",
    "plt.scatter(y, cooks[0])\n",
    "plt.xlabel('y')\n",
    "plt.ylabel('Cooks Distance')\n",
    "plt.show()"
   ]
  },
  {
   "cell_type": "code",
   "execution_count": 227,
   "id": "0ac39b64",
   "metadata": {
    "ExecuteTime": {
     "end_time": "2022-11-08T22:53:30.686667Z",
     "start_time": "2022-11-08T22:53:30.555418Z"
    }
   },
   "outputs": [
    {
     "data": {
      "text/plain": [
       "<AxesSubplot:>"
      ]
     },
     "execution_count": 227,
     "metadata": {},
     "output_type": "execute_result"
    },
    {
     "data": {
      "image/png": "[encoded data removed]",
      "text/plain": [
       "<Figure size 842.4x595.44 with 1 Axes>"
      ]
     },
     "metadata": {},
     "output_type": "display_data"
    }
   ],
   "source": [
    "y.plot.box()"
   ]
  },
  {
   "cell_type": "code",
   "execution_count": 228,
   "id": "74436497",
   "metadata": {
    "ExecuteTime": {
     "end_time": "2022-11-08T22:53:31.034978Z",
     "start_time": "2022-11-08T22:53:31.019020Z"
    }
   },
   "outputs": [],
   "source": [
    "# filter out\n",
    "# outliers = (cooks[0] >= 0.1) | (y > 3)\n",
    "outliers = cooks[0] >= 0.01\n",
    "X = x[~outliers]\n",
    "Y = y[~outliers]\n",
    "X.columns = x.columns\n",
    "\n",
    "X_cv = x_raw[~outliers]\n",
    "Y_cv = y_raw[~outliers]"
   ]
  },
  {
   "cell_type": "code",
   "execution_count": 229,
   "id": "3f425310",
   "metadata": {
    "ExecuteTime": {
     "end_time": "2022-11-08T22:53:31.598630Z",
     "start_time": "2022-11-08T22:53:31.458058Z"
    }
   },
   "outputs": [
    {
     "data": {
      "text/plain": [
       "<AxesSubplot:>"
      ]
     },
     "execution_count": 229,
     "metadata": {},
     "output_type": "execute_result"
    },
    {
     "data": {
      "image/png": "[encoded data removed]",
      "text/plain": [
       "<Figure size 842.4x595.44 with 1 Axes>"
      ]
     },
     "metadata": {},
     "output_type": "display_data"
    }
   ],
   "source": [
    "Y.plot.box()"
   ]
  },
  {
   "cell_type": "markdown",
   "id": "3dde382a",
   "metadata": {},
   "source": [
    "# Modelling"
   ]
  },
  {
   "cell_type": "code",
   "execution_count": 230,
   "id": "bf74d07d",
   "metadata": {
    "ExecuteTime": {
     "end_time": "2022-11-08T22:53:32.486707Z",
     "start_time": "2022-11-08T22:53:32.479725Z"
    }
   },
   "outputs": [],
   "source": [
    "from sklearn.ensemble import RandomForestRegressor\n",
    "from sklearn.linear_model import Ridge\n",
    "from sklearn.neighbors import KNeighborsRegressor\n",
    "from sklearn.tree import DecisionTreeRegressor\n",
    "from sklearn.model_selection import cross_validate, GridSearchCV\n",
    "from sklearn.pipeline import make_pipeline\n",
    "from sklearn.metrics import r2_score, mean_squared_error, mean_absolute_error"
   ]
  },
  {
   "cell_type": "code",
   "execution_count": 231,
   "id": "c5a954a3",
   "metadata": {
    "ExecuteTime": {
     "end_time": "2022-11-08T22:53:35.398926Z",
     "start_time": "2022-11-08T22:53:32.912542Z"
    }
   },
   "outputs": [
    {
     "name": "stdout",
     "output_type": "stream",
     "text": [
      "RLM 10Fold-MAE : 1.7074549836416382 , 10Fold-RMSE : 2.472644310006672\n",
      "DT 10Fold-MAE : 2.65149816145357 , 10Fold-RMSE : 3.5873514856431514\n",
      "KNN 10Fold-MAE : 1.9495288371190285 , 10Fold-RMSE : 2.6633464323030864\n",
      "RF 10Fold-MAE : 1.8486675937326325 , 10Fold-RMSE : 2.577942521373654\n"
     ]
    }
   ],
   "source": [
    "models = {'RLM':Ridge(),\n",
    "          \"DT\": DecisionTreeRegressor(),\n",
    "          'KNN': KNeighborsRegressor(),\n",
    "          'RF': RandomForestRegressor()\n",
    "          }\n",
    "\n",
    "for name, model in models.items():\n",
    "    pipe = make_pipeline(PowerTransformer(), model)\n",
    "    score = cross_validate(model, X_cv, Y_cv, cv=10, scoring=['neg_mean_absolute_error', 'neg_root_mean_squared_error'])\n",
    "    mae = -score['test_neg_mean_absolute_error'].mean()\n",
    "    rmse = -score['test_neg_root_mean_squared_error'].mean()\n",
    "    print (name, \"10Fold-MAE :\", mae, \", 10Fold-RMSE :\", rmse)"
   ]
  },
  {
   "cell_type": "markdown",
   "id": "702b1cf8",
   "metadata": {},
   "source": [
    "### Ridge LM"
   ]
  },
  {
   "cell_type": "code",
   "execution_count": 232,
   "id": "69dcf002",
   "metadata": {
    "ExecuteTime": {
     "end_time": "2022-11-08T22:54:28.960615Z",
     "start_time": "2022-11-08T22:53:36.538844Z"
    }
   },
   "outputs": [
    {
     "name": "stdout",
     "output_type": "stream",
     "text": [
      "Fitting 10 folds for each of 3000 candidates, totalling 30000 fits\n",
      "best score: -2.40842704475328\n"
     ]
    },
    {
     "data": {
      "text/plain": [
       "{'alpha': 462}"
      ]
     },
     "execution_count": 232,
     "metadata": {},
     "output_type": "execute_result"
    }
   ],
   "source": [
    "model = Ridge()\n",
    "params = {'alpha':[i for i in range(3000)],\n",
    "         }\n",
    "\n",
    "grid_cv = GridSearchCV(model,params,cv=10, scoring='neg_root_mean_squared_error', verbose=1)\n",
    "pipe = make_pipeline(PowerTransformer(), grid_cv)\n",
    "pipe.fit(X_cv,Y_cv)\n",
    "grid_result = pipe.get_params()['steps'][1][1]\n",
    "print('best score:',grid_result.best_score_)\n",
    "grid_result.best_params_"
   ]
  },
  {
   "cell_type": "code",
   "execution_count": 241,
   "id": "1f843f92",
   "metadata": {
    "ExecuteTime": {
     "end_time": "2022-11-08T22:54:42.916250Z",
     "start_time": "2022-11-08T22:54:42.905281Z"
    }
   },
   "outputs": [
    {
     "data": {
      "text/plain": [
       "Ridge(alpha=462)"
      ]
     },
     "execution_count": 241,
     "metadata": {},
     "output_type": "execute_result"
    }
   ],
   "source": [
    "# fitting final model\n",
    "alpha = 462\n",
    "linear_model = Ridge(alpha=alpha)\n",
    "# linear_model.fit(X_transform,Y)\n",
    "linear_model.fit(X,Y)"
   ]
  },
  {
   "cell_type": "code",
   "execution_count": 242,
   "id": "91dbdfce",
   "metadata": {
    "ExecuteTime": {
     "end_time": "2022-11-08T22:54:43.860382Z",
     "start_time": "2022-11-08T22:54:43.425972Z"
    }
   },
   "outputs": [
    {
     "name": "stdout",
     "output_type": "stream",
     "text": [
      "R2 0.01933105328538165 \n",
      "RMSE 2.456565908176348 \n",
      "MAE 1.6271748994905815\n"
     ]
    },
    {
     "data": {
      "text/plain": [
       "<AxesSubplot:xlabel='predict', ylabel='error'>"
      ]
     },
     "execution_count": 242,
     "metadata": {},
     "output_type": "execute_result"
    },
    {
     "data": {
      "image/png": "[encoded data removed]",
      "text/plain": [
       "<Figure size 842.4x595.44 with 1 Axes>"
      ]
     },
     "metadata": {},
     "output_type": "display_data"
    }
   ],
   "source": [
    "lm = pd.DataFrame({'predict': linear_model.predict(X), 'true':Y})\n",
    "lm['error'] = lm['predict'] - lm['true']\n",
    "plot_df = lm.copy().sort_values(['error']).reset_index()\n",
    "print('R2', r2_score(lm['true'],lm['predict']),\n",
    "      '\\nRMSE', mean_squared_error(lm['true'],lm['predict'],squared=False),\n",
    "      '\\nMAE', mean_absolute_error(lm['true'],lm['predict']))\n",
    "sns.regplot(x = 'predict' , y = 'error', data = plot_df, scatter = True)"
   ]
  },
  {
   "cell_type": "code",
   "execution_count": 243,
   "id": "d3a6d141",
   "metadata": {
    "ExecuteTime": {
     "end_time": "2022-11-08T22:54:44.192437Z",
     "start_time": "2022-11-08T22:54:43.988456Z"
    }
   },
   "outputs": [
    {
     "data": {
      "text/plain": [
       "<AxesSubplot:>"
      ]
     },
     "execution_count": 243,
     "metadata": {},
     "output_type": "execute_result"
    },
    {
     "data": {
      "image/png": "[encoded data removed]",
      "text/plain": [
       "<Figure size 842.4x595.44 with 1 Axes>"
      ]
     },
     "metadata": {},
     "output_type": "display_data"
    }
   ],
   "source": [
    "plot_df.error.hist()"
   ]
  },
  {
   "cell_type": "markdown",
   "id": "15dbe9c2",
   "metadata": {},
   "source": [
    "### Random Forest"
   ]
  },
  {
   "cell_type": "code",
   "execution_count": 244,
   "id": "54c7fadb",
   "metadata": {
    "ExecuteTime": {
     "end_time": "2022-11-08T22:54:57.890722Z",
     "start_time": "2022-11-08T22:54:45.417702Z"
    }
   },
   "outputs": [
    {
     "name": "stdout",
     "output_type": "stream",
     "text": [
      "Fitting 10 folds for each of 72 candidates, totalling 720 fits\n",
      "best RMSE score: -2.4188472765492524\n"
     ]
    },
    {
     "data": {
      "text/plain": [
       "{'max_depth': 4, 'min_samples_split': 4, 'n_estimators': 15}"
      ]
     },
     "execution_count": 244,
     "metadata": {},
     "output_type": "execute_result"
    }
   ],
   "source": [
    "model = RandomForestRegressor()\n",
    "params = {'n_estimators':[i for i in range(5,16,5)], # ga terlalu banyak, biar mengurangi kompleksitas analisis rules\n",
    "          'max_depth':[i for i in range(4,8)], # berpengaruh ke jumlah rules tiap tree\n",
    "          'min_samples_split': [0.1,0.05,0.01,2,4,6] # pruning pada tree yang telah dibuat\n",
    "         }\n",
    "grid_cv = GridSearchCV(model,params,cv=10, scoring='neg_root_mean_squared_error', verbose=1)\n",
    "pipe = make_pipeline(PowerTransformer(), grid_cv)\n",
    "pipe.fit(X_cv,Y_cv)\n",
    "grid_result = pipe.get_params()['steps'][1][1]\n",
    "print('best RMSE score:',grid_result.best_score_)\n",
    "grid_result.best_params_"
   ]
  },
  {
   "cell_type": "code",
   "execution_count": 245,
   "id": "f5108d1e",
   "metadata": {
    "ExecuteTime": {
     "end_time": "2022-11-08T22:55:07.371492Z",
     "start_time": "2022-11-08T22:55:07.325619Z"
    }
   },
   "outputs": [
    {
     "data": {
      "text/plain": [
       "RandomForestRegressor(max_depth=4, min_samples_split=4, n_estimators=15)"
      ]
     },
     "execution_count": 245,
     "metadata": {},
     "output_type": "execute_result"
    }
   ],
   "source": [
    "# fitting final model\n",
    "rf_model = RandomForestRegressor(n_estimators=15, min_samples_split=4, max_depth=4)\n",
    "rf_model.fit(X,Y)"
   ]
  },
  {
   "cell_type": "code",
   "execution_count": 246,
   "id": "34422de1",
   "metadata": {
    "ExecuteTime": {
     "end_time": "2022-11-08T22:55:08.420709Z",
     "start_time": "2022-11-08T22:55:08.018786Z"
    }
   },
   "outputs": [
    {
     "name": "stdout",
     "output_type": "stream",
     "text": [
      "R2 0.1031336545010697 \n",
      "RMSE 2.349259937343006 \n",
      "MAE 1.5585792229392645\n"
     ]
    },
    {
     "data": {
      "text/plain": [
       "<AxesSubplot:xlabel='predict', ylabel='error'>"
      ]
     },
     "execution_count": 246,
     "metadata": {},
     "output_type": "execute_result"
    },
    {
     "data": {
      "image/png": "[encoded data removed]",
      "text/plain": [
       "<Figure size 842.4x595.44 with 1 Axes>"
      ]
     },
     "metadata": {},
     "output_type": "display_data"
    }
   ],
   "source": [
    "lm = pd.DataFrame({'predict': rf_model.predict(X), 'true':Y})\n",
    "lm['error'] = lm['predict'] - lm['true']\n",
    "plot_df = lm.copy().sort_values(['error']).reset_index()\n",
    "print('R2', r2_score(lm['true'],lm['predict']),\n",
    "      '\\nRMSE', mean_squared_error(lm['true'],lm['predict'],squared=False),\n",
    "      '\\nMAE', mean_absolute_error(lm['true'],lm['predict']))\n",
    "sns.regplot(x = 'predict' , y = 'error', data = plot_df)"
   ]
  },
  {
   "cell_type": "code",
   "execution_count": 247,
   "id": "9cdf89bf",
   "metadata": {
    "ExecuteTime": {
     "end_time": "2022-11-08T22:55:13.546258Z",
     "start_time": "2022-11-08T22:55:13.344961Z"
    }
   },
   "outputs": [
    {
     "data": {
      "text/plain": [
       "<AxesSubplot:>"
      ]
     },
     "execution_count": 247,
     "metadata": {},
     "output_type": "execute_result"
    },
    {
     "data": {
      "image/png": "[encoded data removed]",
      "text/plain": [
       "<Figure size 842.4x595.44 with 1 Axes>"
      ]
     },
     "metadata": {},
     "output_type": "display_data"
    }
   ],
   "source": [
    "plot_df.error.hist()"
   ]
  },
  {
   "cell_type": "code",
   "execution_count": 248,
   "id": "01a643ff",
   "metadata": {
    "ExecuteTime": {
     "end_time": "2022-11-08T22:55:14.225339Z",
     "start_time": "2022-11-08T22:55:14.063213Z"
    }
   },
   "outputs": [
    {
     "data": {
      "text/plain": [
       "<AxesSubplot:>"
      ]
     },
     "execution_count": 248,
     "metadata": {},
     "output_type": "execute_result"
    },
    {
     "data": {
      "image/png": "[encoded data removed]",
      "text/plain": [
       "<Figure size 1296x576 with 1 Axes>"
      ]
     },
     "metadata": {},
     "output_type": "display_data"
    }
   ],
   "source": [
    "pd.Series(rf_model.feature_importances_, index=X.columns).sort_values().plot.bar(figsize=(18,8))"
   ]
  },
  {
   "cell_type": "markdown",
   "id": "1c4abcae",
   "metadata": {},
   "source": [
    "# Model Deployment\n",
    "#### Get Variable Boundaries from RF Model"
   ]
  },
  {
   "cell_type": "code",
   "execution_count": 39,
   "id": "b6ee9e72",
   "metadata": {
    "ExecuteTime": {
     "end_time": "2022-11-08T20:24:28.958397Z",
     "start_time": "2022-11-08T20:24:28.866640Z"
    }
   },
   "outputs": [],
   "source": [
    "def tree_to_pseudo(tree, feature_names, tree_id):\n",
    "\n",
    "    '''\n",
    "    Outputs a decision tree model as if/then pseudocode\n",
    "    \n",
    "    Parameters:\n",
    "    -----------\n",
    "    tree: decision tree model\n",
    "        The decision tree to represent as pseudocode\n",
    "    feature_names: list\n",
    "        The feature names of the dataset used for building the decision tree\n",
    "    '''\n",
    "\n",
    "    left = tree.tree_.children_left\n",
    "    right = tree.tree_.children_right\n",
    "    threshold = tree.tree_.threshold\n",
    "    features = [feature_names[i] for i in tree.tree_.feature]\n",
    "    value = tree.tree_.value\n",
    "    samples = tree.tree_.n_node_samples\n",
    "    \n",
    "    G = nx.Graph()\n",
    "    G.add_nodes_from(range(len(value)))\n",
    "    \n",
    "    leaves = []\n",
    "\n",
    "    def recurse(left, right, threshold, features, node, depth=0):\n",
    "        if (threshold[node] != -2):\n",
    "            if left[node] != -1:\n",
    "                G.add_edge(node, left[node])\n",
    "                d = {(node, left[node]):{'feature':features[node], 'sign':\"<=\", 'threshold':threshold[node],'depth':depth}}\n",
    "                nx.set_edge_attributes(G, d)\n",
    "                recurse (left, right, threshold, features, left[node], depth+1)\n",
    "                if right[node] != -1:\n",
    "                    G.add_edge(node, right[node])\n",
    "                    d = {(node, right[node]):{'feature':features[node], 'sign':\">\", 'threshold':threshold[node],'depth':depth}}\n",
    "                    nx.set_edge_attributes(G, d)\n",
    "                    recurse (left, right, threshold, features, right[node], depth+1)\n",
    "        else:\n",
    "            leaves.append(node)\n",
    "    recurse(left, right, threshold, features, 0)\n",
    "    \n",
    "    l = []\n",
    "    p = []\n",
    "    for leaf in leaves:\n",
    "        path = nx.shortest_path(G, 0, leaf)\n",
    "        leaf_id = str(tree_id)+str(leaf)\n",
    "        l.append({'leaf_id': leaf_id, 'tree_id':tree_id, 'value':value[leaf][0][0]})\n",
    "        for i in range(len(path)-1):\n",
    "            e = G[path[i]][path[i+1]]\n",
    "            p_id = leaf_id + str(i)\n",
    "            p.append({'path_id':p_id, 'leaf_id':leaf_id,\n",
    "                      'feature':e['feature'], 'sign':e['sign'],\n",
    "                      'threshold':e['threshold'], 'depth':e['depth']\n",
    "                     })\n",
    "        \n",
    "    \n",
    "    return pd.DataFrame(l), pd.DataFrame(p)"
   ]
  },
  {
   "cell_type": "code",
   "execution_count": 40,
   "id": "a930b529",
   "metadata": {
    "ExecuteTime": {
     "end_time": "2022-11-08T20:24:29.036421Z",
     "start_time": "2022-11-08T20:24:28.960390Z"
    }
   },
   "outputs": [
    {
     "data": {
      "text/html": [
       "<div>\n",
       "<style scoped>\n",
       "    .dataframe tbody tr th:only-of-type {\n",
       "        vertical-align: middle;\n",
       "    }\n",
       "\n",
       "    .dataframe tbody tr th {\n",
       "        vertical-align: top;\n",
       "    }\n",
       "\n",
       "    .dataframe thead th {\n",
       "        text-align: right;\n",
       "    }\n",
       "</style>\n",
       "<table border=\"1\" class=\"dataframe\">\n",
       "  <thead>\n",
       "    <tr style=\"text-align: right;\">\n",
       "      <th></th>\n",
       "      <th>path_id</th>\n",
       "      <th>leaf_id</th>\n",
       "      <th>feature</th>\n",
       "      <th>sign</th>\n",
       "      <th>threshold</th>\n",
       "      <th>depth</th>\n",
       "    </tr>\n",
       "  </thead>\n",
       "  <tbody>\n",
       "    <tr>\n",
       "      <th>0</th>\n",
       "      <td>070</td>\n",
       "      <td>07</td>\n",
       "      <td>Bioenergy</td>\n",
       "      <td>&lt;=</td>\n",
       "      <td>2.171901</td>\n",
       "      <td>0</td>\n",
       "    </tr>\n",
       "    <tr>\n",
       "      <th>1</th>\n",
       "      <td>071</td>\n",
       "      <td>07</td>\n",
       "      <td>Solar energy</td>\n",
       "      <td>&lt;=</td>\n",
       "      <td>-0.789945</td>\n",
       "      <td>1</td>\n",
       "    </tr>\n",
       "    <tr>\n",
       "      <th>2</th>\n",
       "      <td>072</td>\n",
       "      <td>07</td>\n",
       "      <td>Multiple renewables</td>\n",
       "      <td>&lt;=</td>\n",
       "      <td>0.768871</td>\n",
       "      <td>2</td>\n",
       "    </tr>\n",
       "    <tr>\n",
       "      <th>3</th>\n",
       "      <td>073</td>\n",
       "      <td>07</td>\n",
       "      <td>Wind energy</td>\n",
       "      <td>&lt;=</td>\n",
       "      <td>0.331103</td>\n",
       "      <td>3</td>\n",
       "    </tr>\n",
       "    <tr>\n",
       "      <th>4</th>\n",
       "      <td>074</td>\n",
       "      <td>07</td>\n",
       "      <td>Solar energy</td>\n",
       "      <td>&lt;=</td>\n",
       "      <td>-0.801699</td>\n",
       "      <td>4</td>\n",
       "    </tr>\n",
       "    <tr>\n",
       "      <th>...</th>\n",
       "      <td>...</td>\n",
       "      <td>...</td>\n",
       "      <td>...</td>\n",
       "      <td>...</td>\n",
       "      <td>...</td>\n",
       "      <td>...</td>\n",
       "    </tr>\n",
       "    <tr>\n",
       "      <th>31</th>\n",
       "      <td>14142</td>\n",
       "      <td>1414</td>\n",
       "      <td>Multiple renewables</td>\n",
       "      <td>&lt;=</td>\n",
       "      <td>1.152573</td>\n",
       "      <td>2</td>\n",
       "    </tr>\n",
       "    <tr>\n",
       "      <th>32</th>\n",
       "      <td>14150</td>\n",
       "      <td>1415</td>\n",
       "      <td>Bioenergy</td>\n",
       "      <td>&lt;=</td>\n",
       "      <td>1.425838</td>\n",
       "      <td>0</td>\n",
       "    </tr>\n",
       "    <tr>\n",
       "      <th>33</th>\n",
       "      <td>14151</td>\n",
       "      <td>1415</td>\n",
       "      <td>Multiple renewables</td>\n",
       "      <td>&gt;</td>\n",
       "      <td>0.659120</td>\n",
       "      <td>1</td>\n",
       "    </tr>\n",
       "    <tr>\n",
       "      <th>34</th>\n",
       "      <td>14152</td>\n",
       "      <td>1415</td>\n",
       "      <td>Multiple renewables</td>\n",
       "      <td>&gt;</td>\n",
       "      <td>1.152573</td>\n",
       "      <td>2</td>\n",
       "    </tr>\n",
       "    <tr>\n",
       "      <th>35</th>\n",
       "      <td>14160</td>\n",
       "      <td>1416</td>\n",
       "      <td>Bioenergy</td>\n",
       "      <td>&gt;</td>\n",
       "      <td>1.425838</td>\n",
       "      <td>0</td>\n",
       "    </tr>\n",
       "  </tbody>\n",
       "</table>\n",
       "<p>874 rows × 6 columns</p>\n",
       "</div>"
      ],
      "text/plain": [
       "   path_id leaf_id              feature sign  threshold  depth\n",
       "0      070      07            Bioenergy   <=   2.171901      0\n",
       "1      071      07         Solar energy   <=  -0.789945      1\n",
       "2      072      07  Multiple renewables   <=   0.768871      2\n",
       "3      073      07          Wind energy   <=   0.331103      3\n",
       "4      074      07         Solar energy   <=  -0.801699      4\n",
       "..     ...     ...                  ...  ...        ...    ...\n",
       "31   14142    1414  Multiple renewables   <=   1.152573      2\n",
       "32   14150    1415            Bioenergy   <=   1.425838      0\n",
       "33   14151    1415  Multiple renewables    >   0.659120      1\n",
       "34   14152    1415  Multiple renewables    >   1.152573      2\n",
       "35   14160    1416            Bioenergy    >   1.425838      0\n",
       "\n",
       "[874 rows x 6 columns]"
      ]
     },
     "execution_count": 40,
     "metadata": {},
     "output_type": "execute_result"
    }
   ],
   "source": [
    "# leaf_df = pd.DataFrame(columns=['leaf_id','tree_id','value'])\n",
    "leaf_df = pd.DataFrame()\n",
    "rules_df = pd.DataFrame()\n",
    "for tree_id in range(len(rf_model.estimators_)):\n",
    "    l, r = tree_to_pseudo(rf_model.estimators_[tree_id], X.columns, tree_id)\n",
    "    leaf_df = leaf_df.append(l)\n",
    "    rules_df = rules_df.append(r)\n",
    "rules_df"
   ]
  },
  {
   "cell_type": "markdown",
   "id": "cc8f879d",
   "metadata": {},
   "source": [
    "#### Linear Programming"
   ]
  },
  {
   "cell_type": "code",
   "execution_count": 41,
   "id": "442c29d2",
   "metadata": {
    "ExecuteTime": {
     "end_time": "2022-11-08T20:24:29.052338Z",
     "start_time": "2022-11-08T20:24:29.039377Z"
    }
   },
   "outputs": [
    {
     "data": {
      "text/plain": [
       "array([-0.00993351,  0.01798305,  0.02747563,  0.03582645,  0.03412771,\n",
       "        0.04193465, -0.01106827])"
      ]
     },
     "execution_count": 41,
     "metadata": {},
     "output_type": "execute_result"
    }
   ],
   "source": [
    "linear_model.coef_"
   ]
  },
  {
   "cell_type": "code",
   "execution_count": 42,
   "id": "7cdea912",
   "metadata": {
    "ExecuteTime": {
     "end_time": "2022-11-08T20:24:29.068333Z",
     "start_time": "2022-11-08T20:24:29.055333Z"
    }
   },
   "outputs": [
    {
     "data": {
      "text/plain": [
       "['Multiple renewables',\n",
       " 'Solar energy',\n",
       " 'Renewable hydropower',\n",
       " 'Bioenergy',\n",
       " 'Wind energy',\n",
       " 'Geothermal energy',\n",
       " 'Marine energy']"
      ]
     },
     "execution_count": 42,
     "metadata": {},
     "output_type": "execute_result"
    }
   ],
   "source": [
    "X.columns.to_list()"
   ]
  },
  {
   "cell_type": "code",
   "execution_count": 87,
   "id": "fcfedab0",
   "metadata": {
    "ExecuteTime": {
     "end_time": "2022-11-08T20:34:55.996432Z",
     "start_time": "2022-11-08T20:34:55.973505Z"
    }
   },
   "outputs": [],
   "source": [
    "def optimize_investment(target_raw):\n",
    "    \n",
    "    target = y_transformer.transform(np.array(target_raw).reshape(1,-1))[0][0]\n",
    "    \n",
    "    picked_df = pd.DataFrame()\n",
    "    for i in range(len(rf_model.estimators_)):\n",
    "        filt = leaf_df[leaf_df.tree_id == i].copy()\n",
    "        filt['selisih'] = (filt.value - target).abs()\n",
    "        leaf = filt[filt.selisih == filt.selisih.min()]['leaf_id'].values[0]\n",
    "\n",
    "        picked_df = picked_df.append(rules_df[rules_df.leaf_id == leaf])\n",
    "\n",
    "    lt = picked_df[picked_df.sign == '<='].sort_values(['feature','depth','threshold']).drop_duplicates(['feature'])\n",
    "    gt = picked_df[picked_df.sign == '>'].sort_values(['feature','depth','threshold'], ascending=[True,True,False]).drop_duplicates(['feature'])\n",
    "    picked_df = lt.append(gt).sort_values(['feature'])\n",
    "\n",
    "    # linear programming\n",
    "    # Create the model\n",
    "    prob = LpProblem(name=\"Renewable_Investment\",sense=LpMinimize)\n",
    "    # Initialize the decision variables\n",
    "    var = []\n",
    "    var_result = {}\n",
    "    \n",
    "    for col in X.columns:\n",
    "        rules = picked_df[picked_df.feature == col]\n",
    "        low = rules[rules.sign == '>'].threshold.values[0] if rules[rules.sign == '>'].threshold.values.shape[0] != 0 else None\n",
    "        up = rules[rules.sign == '<='].threshold.values[0] if rules[rules.sign == '<='].threshold.values.shape[0] != 0 else None\n",
    "        if up is not None and low is not None:\n",
    "            if up < low:\n",
    "                if rules[rules.sign == '>'].depth.values[0] < rules[rules.sign == '<='].depth.values[0]:\n",
    "                    up = None\n",
    "                else:\n",
    "                    low = None\n",
    "        new_var = LpVariable(name=col, lowBound=low, upBound=up)\n",
    "        var.append(new_var)\n",
    "    # Add the objective function to the model\n",
    "    prob += linear_model.intercept_ + \\\n",
    "            linear_model.coef_[0]*var[0] + \\\n",
    "            linear_model.coef_[1]*var[1] + \\\n",
    "            linear_model.coef_[2]*var[2] + \\\n",
    "            linear_model.coef_[3]*var[3] + \\\n",
    "            linear_model.coef_[4]*var[4] + \\\n",
    "            linear_model.coef_[5]*var[5] + \\\n",
    "            linear_model.coef_[6]*var[6] + \\\n",
    "            np.sum(np.abs(np.append(linear_model.intercept_, linear_model.coef_)))*linear_model.get_params()['alpha'] + \\\n",
    "            (-target)\n",
    "    status = prob.solve()\n",
    "    \n",
    "    np_result = []\n",
    "    for i in range(len(var)):\n",
    "        np_result.append(pulp.value(var[i]))\n",
    "        \n",
    "    # transform back the X\n",
    "    var_result = x_transformer.inverse_transform(np.array(np_result).reshape(1,-1))\n",
    "    return (status, var_result)"
   ]
  },
  {
   "cell_type": "code",
   "execution_count": 88,
   "id": "26dfe029",
   "metadata": {
    "ExecuteTime": {
     "end_time": "2022-11-08T20:34:56.543132Z",
     "start_time": "2022-11-08T20:34:56.535962Z"
    }
   },
   "outputs": [
    {
     "data": {
      "text/plain": [
       "Index(['Multiple renewables', 'Solar energy', 'Renewable hydropower',\n",
       "       'Bioenergy', 'Wind energy', 'Geothermal energy', 'Marine energy'],\n",
       "      dtype='object')"
      ]
     },
     "execution_count": 88,
     "metadata": {},
     "output_type": "execute_result"
    }
   ],
   "source": [
    "X.columns"
   ]
  },
  {
   "cell_type": "code",
   "execution_count": 94,
   "id": "a570ad82",
   "metadata": {
    "ExecuteTime": {
     "end_time": "2022-11-08T20:36:35.915805Z",
     "start_time": "2022-11-08T20:36:35.787475Z"
    }
   },
   "outputs": [
    {
     "name": "stdout",
     "output_type": "stream",
     "text": [
      "(-2, array([[5.30804147e+01, 4.92505282e-02, 6.54111037e+01, 2.81170436e-01,\n",
      "        1.87754283e+02, 1.47474112e-02, 4.24633828e-07]]))\n"
     ]
    },
    {
     "data": {
      "text/plain": [
       "array([[1.71147069]])"
      ]
     },
     "execution_count": 94,
     "metadata": {},
     "output_type": "execute_result"
    }
   ],
   "source": [
    "optimazed = optimize_investment(5)\n",
    "print(optimazed)\n",
    "prediction = linear_model.predict(x_transformer.transform(optimazed[1].reshape(1,-1)))\n",
    "y_transformer.inverse_transform(prediction.reshape(1, -1))"
   ]
  },
  {
   "cell_type": "code",
   "execution_count": 83,
   "id": "8ca53637",
   "metadata": {
    "ExecuteTime": {
     "end_time": "2022-11-08T20:34:22.218696Z",
     "start_time": "2022-11-08T20:34:22.199751Z"
    }
   },
   "outputs": [
    {
     "data": {
      "text/plain": [
       "<pulp.apis.cplex_api.CPLEX_CMD at 0x1fbe54d1ac0>"
      ]
     },
     "execution_count": 83,
     "metadata": {},
     "output_type": "execute_result"
    }
   ],
   "source": [
    "pulp.getSolver('CPLEX_CMD', timeLimit=10)"
   ]
  },
  {
   "cell_type": "code",
   "execution_count": 69,
   "id": "7d158ae5",
   "metadata": {
    "ExecuteTime": {
     "end_time": "2022-11-08T20:29:27.092893Z",
     "start_time": "2022-11-08T20:29:27.076899Z"
    }
   },
   "outputs": [
    {
     "data": {
      "text/plain": [
       "array([4.24633828e-07, 1.47474112e-02, 4.92505282e-02, 2.81170436e-01,\n",
       "       5.30804147e+01, 6.54111037e+01, 1.87754283e+02])"
      ]
     },
     "execution_count": 69,
     "metadata": {},
     "output_type": "execute_result"
    }
   ],
   "source": [
    "a = optimazed[1][0]\n",
    "a.sort()\n",
    "a"
   ]
  },
  {
   "cell_type": "markdown",
   "id": "54ab2ea1",
   "metadata": {},
   "source": [
    "# Cara alternatif"
   ]
  },
  {
   "cell_type": "code",
   "execution_count": 554,
   "id": "856ba0fb",
   "metadata": {
    "ExecuteTime": {
     "end_time": "2022-11-09T01:12:02.022992Z",
     "start_time": "2022-11-09T01:12:01.410023Z"
    }
   },
   "outputs": [
    {
     "data": {
      "text/plain": [
       "(729197, 6)"
      ]
     },
     "execution_count": 554,
     "metadata": {},
     "output_type": "execute_result"
    }
   ],
   "source": [
    "import random\n",
    "rand_df=pd.DataFrame()\n",
    "for col in X.columns:\n",
    "    rand_df[col]=X[col].sample(1000000, replace=True).reset_index(drop=True)+((random.random()-0.5)/100)\n",
    "    maxs = X[col].max()\n",
    "    mins = X[col].min()\n",
    "    rand_df.loc[rand_df[col] > maxs, col] = maxs\n",
    "    rand_df.loc[rand_df[col] < mins, col] = mins\n",
    "    \n",
    "rand_df = rand_df.drop_duplicates()\n",
    "rand_df.shape"
   ]
  },
  {
   "cell_type": "code",
   "execution_count": 555,
   "id": "09a43959",
   "metadata": {
    "ExecuteTime": {
     "end_time": "2022-11-09T01:12:02.603621Z",
     "start_time": "2022-11-09T01:12:02.024955Z"
    }
   },
   "outputs": [
    {
     "name": "stderr",
     "output_type": "stream",
     "text": [
      "C:\\Users\\ade.satya\\anaconda3\\lib\\site-packages\\sklearn\\preprocessing\\_data.py:3176: RuntimeWarning: divide by zero encountered in power\n",
      "  x_inv[pos] = np.power(x[pos] * lmbda + 1, 1 / lmbda) - 1\n"
     ]
    },
    {
     "data": {
      "text/html": [
       "<div>\n",
       "<style scoped>\n",
       "    .dataframe tbody tr th:only-of-type {\n",
       "        vertical-align: middle;\n",
       "    }\n",
       "\n",
       "    .dataframe tbody tr th {\n",
       "        vertical-align: top;\n",
       "    }\n",
       "\n",
       "    .dataframe thead th {\n",
       "        text-align: right;\n",
       "    }\n",
       "</style>\n",
       "<table border=\"1\" class=\"dataframe\">\n",
       "  <thead>\n",
       "    <tr style=\"text-align: right;\">\n",
       "      <th></th>\n",
       "      <th>Multiple renewables</th>\n",
       "      <th>Solar energy</th>\n",
       "      <th>Renewable hydropower</th>\n",
       "      <th>Bioenergy</th>\n",
       "      <th>Wind energy</th>\n",
       "      <th>Geothermal energy</th>\n",
       "      <th>prediction</th>\n",
       "    </tr>\n",
       "  </thead>\n",
       "  <tbody>\n",
       "    <tr>\n",
       "      <th>0</th>\n",
       "      <td>0.000000</td>\n",
       "      <td>0.002559</td>\n",
       "      <td>0.418027</td>\n",
       "      <td>0.000280</td>\n",
       "      <td>0.0</td>\n",
       "      <td>0.000048</td>\n",
       "      <td>1.218103</td>\n",
       "    </tr>\n",
       "    <tr>\n",
       "      <th>1</th>\n",
       "      <td>0.831255</td>\n",
       "      <td>6.311731</td>\n",
       "      <td>0.001514</td>\n",
       "      <td>0.000280</td>\n",
       "      <td>0.0</td>\n",
       "      <td>0.000048</td>\n",
       "      <td>1.225148</td>\n",
       "    </tr>\n",
       "    <tr>\n",
       "      <th>2</th>\n",
       "      <td>0.000000</td>\n",
       "      <td>0.002559</td>\n",
       "      <td>0.001514</td>\n",
       "      <td>0.705005</td>\n",
       "      <td>0.0</td>\n",
       "      <td>0.000048</td>\n",
       "      <td>1.192434</td>\n",
       "    </tr>\n",
       "    <tr>\n",
       "      <th>3</th>\n",
       "      <td>471.754777</td>\n",
       "      <td>0.017039</td>\n",
       "      <td>109.046247</td>\n",
       "      <td>0.000280</td>\n",
       "      <td>0.0</td>\n",
       "      <td>0.000048</td>\n",
       "      <td>1.175679</td>\n",
       "    </tr>\n",
       "    <tr>\n",
       "      <th>4</th>\n",
       "      <td>0.162320</td>\n",
       "      <td>70.589265</td>\n",
       "      <td>0.481655</td>\n",
       "      <td>0.000280</td>\n",
       "      <td>0.0</td>\n",
       "      <td>0.000048</td>\n",
       "      <td>1.477855</td>\n",
       "    </tr>\n",
       "    <tr>\n",
       "      <th>...</th>\n",
       "      <td>...</td>\n",
       "      <td>...</td>\n",
       "      <td>...</td>\n",
       "      <td>...</td>\n",
       "      <td>...</td>\n",
       "      <td>...</td>\n",
       "      <td>...</td>\n",
       "    </tr>\n",
       "    <tr>\n",
       "      <th>729192</th>\n",
       "      <td>23.255663</td>\n",
       "      <td>12.145689</td>\n",
       "      <td>0.001514</td>\n",
       "      <td>0.000280</td>\n",
       "      <td>0.0</td>\n",
       "      <td>0.000048</td>\n",
       "      <td>1.017962</td>\n",
       "    </tr>\n",
       "    <tr>\n",
       "      <th>729193</th>\n",
       "      <td>18.483513</td>\n",
       "      <td>0.233804</td>\n",
       "      <td>0.001514</td>\n",
       "      <td>0.000280</td>\n",
       "      <td>0.0</td>\n",
       "      <td>0.000048</td>\n",
       "      <td>1.046450</td>\n",
       "    </tr>\n",
       "    <tr>\n",
       "      <th>729194</th>\n",
       "      <td>24.869248</td>\n",
       "      <td>138.704989</td>\n",
       "      <td>0.001514</td>\n",
       "      <td>0.003812</td>\n",
       "      <td>0.0</td>\n",
       "      <td>0.000048</td>\n",
       "      <td>1.015086</td>\n",
       "    </tr>\n",
       "    <tr>\n",
       "      <th>729195</th>\n",
       "      <td>0.000000</td>\n",
       "      <td>0.002559</td>\n",
       "      <td>0.764314</td>\n",
       "      <td>0.020505</td>\n",
       "      <td>0.0</td>\n",
       "      <td>0.000048</td>\n",
       "      <td>1.132237</td>\n",
       "    </tr>\n",
       "    <tr>\n",
       "      <th>729196</th>\n",
       "      <td>0.001943</td>\n",
       "      <td>0.002559</td>\n",
       "      <td>2031.373611</td>\n",
       "      <td>0.000280</td>\n",
       "      <td>0.0</td>\n",
       "      <td>0.000048</td>\n",
       "      <td>1.034013</td>\n",
       "    </tr>\n",
       "  </tbody>\n",
       "</table>\n",
       "<p>729197 rows × 7 columns</p>\n",
       "</div>"
      ],
      "text/plain": [
       "        Multiple renewables  Solar energy  Renewable hydropower  Bioenergy  \\\n",
       "0                  0.000000      0.002559              0.418027   0.000280   \n",
       "1                  0.831255      6.311731              0.001514   0.000280   \n",
       "2                  0.000000      0.002559              0.001514   0.705005   \n",
       "3                471.754777      0.017039            109.046247   0.000280   \n",
       "4                  0.162320     70.589265              0.481655   0.000280   \n",
       "...                     ...           ...                   ...        ...   \n",
       "729192            23.255663     12.145689              0.001514   0.000280   \n",
       "729193            18.483513      0.233804              0.001514   0.000280   \n",
       "729194            24.869248    138.704989              0.001514   0.003812   \n",
       "729195             0.000000      0.002559              0.764314   0.020505   \n",
       "729196             0.001943      0.002559           2031.373611   0.000280   \n",
       "\n",
       "        Wind energy  Geothermal energy  prediction  \n",
       "0               0.0           0.000048    1.218103  \n",
       "1               0.0           0.000048    1.225148  \n",
       "2               0.0           0.000048    1.192434  \n",
       "3               0.0           0.000048    1.175679  \n",
       "4               0.0           0.000048    1.477855  \n",
       "...             ...                ...         ...  \n",
       "729192          0.0           0.000048    1.017962  \n",
       "729193          0.0           0.000048    1.046450  \n",
       "729194          0.0           0.000048    1.015086  \n",
       "729195          0.0           0.000048    1.132237  \n",
       "729196          0.0           0.000048    1.034013  \n",
       "\n",
       "[729197 rows x 7 columns]"
      ]
     },
     "execution_count": 555,
     "metadata": {},
     "output_type": "execute_result"
    }
   ],
   "source": [
    "mesh_df = pd.DataFrame(x_transformer.inverse_transform(rand_df), columns = rand_df.columns)\n",
    "mesh_df['prediction'] = rf_model.predict(rand_df)\n",
    "mesh_df"
   ]
  },
  {
   "cell_type": "code",
   "execution_count": 556,
   "id": "c1a936b3",
   "metadata": {
    "ExecuteTime": {
     "end_time": "2022-11-09T01:12:02.965938Z",
     "start_time": "2022-11-09T01:12:02.606602Z"
    }
   },
   "outputs": [
    {
     "data": {
      "text/plain": [
       "(729197, 7)"
      ]
     },
     "execution_count": 556,
     "metadata": {},
     "output_type": "execute_result"
    }
   ],
   "source": [
    "for col in mesh_df.columns:\n",
    "    mesh_df.loc[mesh_df[col] == np.inf, col] = finance_df.loc[finance_df.Technology == col, 'Amount (2020 USD million)'].max()\n",
    "    mesh_df.loc[mesh_df[col].abs() < 10**-12, col] = 0\n",
    "    \n",
    "mesh_df = mesh_df.iloc[np.where(mesh_df[mesh_df.columns[:-1]].gt(0).any(1))]\n",
    "mesh_df = mesh_df.drop_duplicates(subset=mesh_df.columns[:-1]).reset_index(drop=True)\n",
    "mesh_df.shape"
   ]
  },
  {
   "cell_type": "code",
   "execution_count": 557,
   "id": "5ead8262",
   "metadata": {
    "ExecuteTime": {
     "end_time": "2022-11-09T01:12:03.170312Z",
     "start_time": "2022-11-09T01:12:02.967446Z"
    }
   },
   "outputs": [
    {
     "data": {
      "text/plain": [
       "<AxesSubplot:>"
      ]
     },
     "execution_count": 557,
     "metadata": {},
     "output_type": "execute_result"
    },
    {
     "data": {
      "image/png": "[encoded data removed]",
      "text/plain": [
       "<Figure size 842.4x595.44 with 1 Axes>"
      ]
     },
     "metadata": {},
     "output_type": "display_data"
    }
   ],
   "source": [
    "mesh_df.prediction.hist()"
   ]
  },
  {
   "cell_type": "code",
   "execution_count": 558,
   "id": "e24893b8",
   "metadata": {
    "ExecuteTime": {
     "end_time": "2022-11-09T01:12:03.357395Z",
     "start_time": "2022-11-09T01:12:03.172890Z"
    }
   },
   "outputs": [
    {
     "data": {
      "text/html": [
       "<div>\n",
       "<style scoped>\n",
       "    .dataframe tbody tr th:only-of-type {\n",
       "        vertical-align: middle;\n",
       "    }\n",
       "\n",
       "    .dataframe tbody tr th {\n",
       "        vertical-align: top;\n",
       "    }\n",
       "\n",
       "    .dataframe thead th {\n",
       "        text-align: right;\n",
       "    }\n",
       "</style>\n",
       "<table border=\"1\" class=\"dataframe\">\n",
       "  <thead>\n",
       "    <tr style=\"text-align: right;\">\n",
       "      <th></th>\n",
       "      <th>Multiple renewables</th>\n",
       "      <th>Solar energy</th>\n",
       "      <th>Renewable hydropower</th>\n",
       "      <th>Bioenergy</th>\n",
       "      <th>Wind energy</th>\n",
       "      <th>Geothermal energy</th>\n",
       "      <th>prediction</th>\n",
       "    </tr>\n",
       "  </thead>\n",
       "  <tbody>\n",
       "    <tr>\n",
       "      <th>count</th>\n",
       "      <td>729197.000000</td>\n",
       "      <td>729197.000000</td>\n",
       "      <td>729197.000000</td>\n",
       "      <td>729197.000000</td>\n",
       "      <td>729197.000000</td>\n",
       "      <td>729197.000000</td>\n",
       "      <td>729197.000000</td>\n",
       "    </tr>\n",
       "    <tr>\n",
       "      <th>mean</th>\n",
       "      <td>19.455247</td>\n",
       "      <td>26.576255</td>\n",
       "      <td>142.728314</td>\n",
       "      <td>5.132142</td>\n",
       "      <td>0.877196</td>\n",
       "      <td>10.687177</td>\n",
       "      <td>1.276385</td>\n",
       "    </tr>\n",
       "    <tr>\n",
       "      <th>std</th>\n",
       "      <td>49.935057</td>\n",
       "      <td>109.218162</td>\n",
       "      <td>546.736097</td>\n",
       "      <td>21.966330</td>\n",
       "      <td>2.824550</td>\n",
       "      <td>66.101956</td>\n",
       "      <td>0.339078</td>\n",
       "    </tr>\n",
       "    <tr>\n",
       "      <th>min</th>\n",
       "      <td>0.000000</td>\n",
       "      <td>0.002559</td>\n",
       "      <td>0.001514</td>\n",
       "      <td>0.000280</td>\n",
       "      <td>0.000000</td>\n",
       "      <td>0.000048</td>\n",
       "      <td>-1.022922</td>\n",
       "    </tr>\n",
       "    <tr>\n",
       "      <th>25%</th>\n",
       "      <td>0.025748</td>\n",
       "      <td>0.003445</td>\n",
       "      <td>0.001514</td>\n",
       "      <td>0.000280</td>\n",
       "      <td>0.000000</td>\n",
       "      <td>0.000048</td>\n",
       "      <td>1.087676</td>\n",
       "    </tr>\n",
       "    <tr>\n",
       "      <th>50%</th>\n",
       "      <td>0.942187</td>\n",
       "      <td>0.227594</td>\n",
       "      <td>0.771370</td>\n",
       "      <td>0.000280</td>\n",
       "      <td>0.000000</td>\n",
       "      <td>0.000048</td>\n",
       "      <td>1.234899</td>\n",
       "    </tr>\n",
       "    <tr>\n",
       "      <th>75%</th>\n",
       "      <td>13.291628</td>\n",
       "      <td>8.803852</td>\n",
       "      <td>37.316988</td>\n",
       "      <td>0.027622</td>\n",
       "      <td>0.000000</td>\n",
       "      <td>0.000048</td>\n",
       "      <td>1.431762</td>\n",
       "    </tr>\n",
       "    <tr>\n",
       "      <th>max</th>\n",
       "      <td>497.929212</td>\n",
       "      <td>1131.172933</td>\n",
       "      <td>6054.273759</td>\n",
       "      <td>102.976124</td>\n",
       "      <td>11.531967</td>\n",
       "      <td>420.073119</td>\n",
       "      <td>4.501790</td>\n",
       "    </tr>\n",
       "  </tbody>\n",
       "</table>\n",
       "</div>"
      ],
      "text/plain": [
       "       Multiple renewables   Solar energy  Renewable hydropower  \\\n",
       "count        729197.000000  729197.000000         729197.000000   \n",
       "mean             19.455247      26.576255            142.728314   \n",
       "std              49.935057     109.218162            546.736097   \n",
       "min               0.000000       0.002559              0.001514   \n",
       "25%               0.025748       0.003445              0.001514   \n",
       "50%               0.942187       0.227594              0.771370   \n",
       "75%              13.291628       8.803852             37.316988   \n",
       "max             497.929212    1131.172933           6054.273759   \n",
       "\n",
       "           Bioenergy    Wind energy  Geothermal energy     prediction  \n",
       "count  729197.000000  729197.000000      729197.000000  729197.000000  \n",
       "mean        5.132142       0.877196          10.687177       1.276385  \n",
       "std        21.966330       2.824550          66.101956       0.339078  \n",
       "min         0.000280       0.000000           0.000048      -1.022922  \n",
       "25%         0.000280       0.000000           0.000048       1.087676  \n",
       "50%         0.000280       0.000000           0.000048       1.234899  \n",
       "75%         0.027622       0.000000           0.000048       1.431762  \n",
       "max       102.976124      11.531967         420.073119       4.501790  "
      ]
     },
     "execution_count": 558,
     "metadata": {},
     "output_type": "execute_result"
    }
   ],
   "source": [
    "mesh_df.describe()"
   ]
  },
  {
   "cell_type": "code",
   "execution_count": 611,
   "id": "9bee6bc8",
   "metadata": {
    "ExecuteTime": {
     "end_time": "2022-11-10T05:02:35.972599Z",
     "start_time": "2022-11-10T05:02:25.586401Z"
    }
   },
   "outputs": [],
   "source": [
    "# target = 3\n",
    "sisa_index = []\n",
    "\n",
    "for target in range(-102,451):\n",
    "    target /= 100\n",
    "    delta = (mesh_df.prediction - target).abs().nsmallest(5)\n",
    "    sisa_index.append(delta.index.to_list())\n",
    "final_df = mesh_df.iloc[list(set([i for j in sisa_index for i in j ]))]"
   ]
  },
  {
   "cell_type": "code",
   "execution_count": 619,
   "id": "dafa35a3",
   "metadata": {
    "ExecuteTime": {
     "end_time": "2022-11-10T05:03:09.856260Z",
     "start_time": "2022-11-10T05:03:09.838305Z"
    }
   },
   "outputs": [
    {
     "data": {
      "text/html": [
       "<div>\n",
       "<style scoped>\n",
       "    .dataframe tbody tr th:only-of-type {\n",
       "        vertical-align: middle;\n",
       "    }\n",
       "\n",
       "    .dataframe tbody tr th {\n",
       "        vertical-align: top;\n",
       "    }\n",
       "\n",
       "    .dataframe thead th {\n",
       "        text-align: right;\n",
       "    }\n",
       "</style>\n",
       "<table border=\"1\" class=\"dataframe\">\n",
       "  <thead>\n",
       "    <tr style=\"text-align: right;\">\n",
       "      <th></th>\n",
       "      <th>Multiple renewables</th>\n",
       "      <th>Solar energy</th>\n",
       "      <th>Renewable hydropower</th>\n",
       "      <th>Bioenergy</th>\n",
       "      <th>Wind energy</th>\n",
       "      <th>Geothermal energy</th>\n",
       "      <th>prediction</th>\n",
       "    </tr>\n",
       "  </thead>\n",
       "  <tbody>\n",
       "    <tr>\n",
       "      <th>311612</th>\n",
       "      <td>92.130940</td>\n",
       "      <td>31.929334</td>\n",
       "      <td>748.62705</td>\n",
       "      <td>0.00028</td>\n",
       "      <td>0.053108</td>\n",
       "      <td>0.000048</td>\n",
       "      <td>2.100081</td>\n",
       "    </tr>\n",
       "    <tr>\n",
       "      <th>289601</th>\n",
       "      <td>99.076254</td>\n",
       "      <td>42.642029</td>\n",
       "      <td>701.20606</td>\n",
       "      <td>0.00028</td>\n",
       "      <td>0.000000</td>\n",
       "      <td>0.000048</td>\n",
       "      <td>2.100081</td>\n",
       "    </tr>\n",
       "    <tr>\n",
       "      <th>233529</th>\n",
       "      <td>84.331907</td>\n",
       "      <td>36.212317</td>\n",
       "      <td>748.62705</td>\n",
       "      <td>0.00028</td>\n",
       "      <td>0.000000</td>\n",
       "      <td>0.000048</td>\n",
       "      <td>2.100081</td>\n",
       "    </tr>\n",
       "    <tr>\n",
       "      <th>496631</th>\n",
       "      <td>72.700891</td>\n",
       "      <td>42.650705</td>\n",
       "      <td>701.20606</td>\n",
       "      <td>0.00028</td>\n",
       "      <td>0.000000</td>\n",
       "      <td>0.000048</td>\n",
       "      <td>2.100081</td>\n",
       "    </tr>\n",
       "    <tr>\n",
       "      <th>89551</th>\n",
       "      <td>74.056007</td>\n",
       "      <td>37.685543</td>\n",
       "      <td>925.34628</td>\n",
       "      <td>0.00028</td>\n",
       "      <td>0.000000</td>\n",
       "      <td>0.000048</td>\n",
       "      <td>2.100081</td>\n",
       "    </tr>\n",
       "  </tbody>\n",
       "</table>\n",
       "</div>"
      ],
      "text/plain": [
       "        Multiple renewables  Solar energy  Renewable hydropower  Bioenergy  \\\n",
       "311612            92.130940     31.929334             748.62705    0.00028   \n",
       "289601            99.076254     42.642029             701.20606    0.00028   \n",
       "233529            84.331907     36.212317             748.62705    0.00028   \n",
       "496631            72.700891     42.650705             701.20606    0.00028   \n",
       "89551             74.056007     37.685543             925.34628    0.00028   \n",
       "\n",
       "        Wind energy  Geothermal energy  prediction  \n",
       "311612     0.053108           0.000048    2.100081  \n",
       "289601     0.000000           0.000048    2.100081  \n",
       "233529     0.000000           0.000048    2.100081  \n",
       "496631     0.000000           0.000048    2.100081  \n",
       "89551      0.000000           0.000048    2.100081  "
      ]
     },
     "execution_count": 619,
     "metadata": {},
     "output_type": "execute_result"
    }
   ],
   "source": [
    "def get_optimize(target):\n",
    "    delta = (final_df.prediction - target).abs().nsmallest(5)\n",
    "    opt = mesh_df.iloc[delta.index.to_list()]\n",
    "    return opt\n",
    "\n",
    "result = get_optimize(2.1)\n",
    "\n",
    "# print(rf_model.predict(x_transformer.transform(result.values.reshape(1,-1))))\n",
    "result"
   ]
  },
  {
   "cell_type": "code",
   "execution_count": 593,
   "id": "79b0921a",
   "metadata": {
    "ExecuteTime": {
     "end_time": "2022-11-09T01:23:47.405267Z",
     "start_time": "2022-11-09T01:23:47.385321Z"
    }
   },
   "outputs": [],
   "source": [
    "final_df.to_csv('reference_df.csv')\n",
    "    \n",
    "# Open a file and use dump()\n",
    "with open('rf_model.pkl', 'wb') as file:\n",
    "    # A new file will be created\n",
    "    pickle.dump(rf_model, file)"
   ]
  },
  {
   "cell_type": "code",
   "execution_count": 601,
   "id": "d183499a",
   "metadata": {
    "ExecuteTime": {
     "end_time": "2022-11-09T13:58:03.423006Z",
     "start_time": "2022-11-09T13:57:59.068747Z"
    }
   },
   "outputs": [
    {
     "data": {
      "text/html": [
       "<div>\n",
       "<style scoped>\n",
       "    .dataframe tbody tr th:only-of-type {\n",
       "        vertical-align: middle;\n",
       "    }\n",
       "\n",
       "    .dataframe tbody tr th {\n",
       "        vertical-align: top;\n",
       "    }\n",
       "\n",
       "    .dataframe thead th {\n",
       "        text-align: right;\n",
       "    }\n",
       "</style>\n",
       "<table border=\"1\" class=\"dataframe\">\n",
       "  <thead>\n",
       "    <tr style=\"text-align: right;\">\n",
       "      <th></th>\n",
       "      <th>tahun</th>\n",
       "      <th>profit</th>\n",
       "      <th>cost</th>\n",
       "      <th>revenue</th>\n",
       "    </tr>\n",
       "  </thead>\n",
       "  <tbody>\n",
       "    <tr>\n",
       "      <th>0</th>\n",
       "      <td>2005</td>\n",
       "      <td>100</td>\n",
       "      <td>200</td>\n",
       "      <td>300</td>\n",
       "    </tr>\n",
       "    <tr>\n",
       "      <th>1</th>\n",
       "      <td>2006</td>\n",
       "      <td>200</td>\n",
       "      <td>200</td>\n",
       "      <td>400</td>\n",
       "    </tr>\n",
       "    <tr>\n",
       "      <th>2</th>\n",
       "      <td>2007</td>\n",
       "      <td>350</td>\n",
       "      <td>200</td>\n",
       "      <td>550</td>\n",
       "    </tr>\n",
       "  </tbody>\n",
       "</table>\n",
       "</div>"
      ],
      "text/plain": [
       "   tahun  profit  cost  revenue\n",
       "0   2005     100   200      300\n",
       "1   2006     200   200      400\n",
       "2   2007     350   200      550"
      ]
     },
     "execution_count": 601,
     "metadata": {},
     "output_type": "execute_result"
    }
   ],
   "source": [
    "pd.read_excel('https://github.com/anitarohmawati/GATOTKACA/blob/ANITA/mydata.xlsx?raw=true')"
   ]
  },
  {
   "cell_type": "code",
   "execution_count": 620,
   "id": "45342d57",
   "metadata": {
    "ExecuteTime": {
     "end_time": "2022-11-10T05:03:29.199793Z",
     "start_time": "2022-11-10T05:03:29.133310Z"
    }
   },
   "outputs": [],
   "source": [
    "final_df.to_csv('reference_df.csv')"
   ]
  },
  {
   "cell_type": "code",
   "execution_count": null,
   "id": "cfced284",
   "metadata": {},
   "outputs": [],
   "source": []
  }
 ],
 "metadata": {
  "kernelspec": {
   "display_name": "Python 3",
   "language": "python",
   "name": "python3"
  },
  "language_info": {
   "codemirror_mode": {
    "name": "ipython",
    "version": 3
   },
   "file_extension": ".py",
   "mimetype": "text/x-python",
   "name": "python",
   "nbconvert_exporter": "python",
   "pygments_lexer": "ipython3",
   "version": "3.8.8"
  }
 },
 "nbformat": 4,
 "nbformat_minor": 5
}
